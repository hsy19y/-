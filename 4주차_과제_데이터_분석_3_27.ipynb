{
  "nbformat": 4,
  "nbformat_minor": 0,
  "metadata": {
    "colab": {
      "private_outputs": true,
      "provenance": [],
      "authorship_tag": "ABX9TyOVEUmD8HV/TgiC9jqftmYu",
      "include_colab_link": true
    },
    "kernelspec": {
      "name": "python3",
      "display_name": "Python 3"
    },
    "language_info": {
      "name": "python"
    }
  },
  "cells": [
    {
      "cell_type": "markdown",
      "metadata": {
        "id": "view-in-github",
        "colab_type": "text"
      },
      "source": [
        "<a href=\"https://colab.research.google.com/github/hsy19y/-/blob/main/4%EC%A3%BC%EC%B0%A8_%EA%B3%BC%EC%A0%9C_%EB%8D%B0%EC%9D%B4%ED%84%B0_%EB%B6%84%EC%84%9D_3_27.ipynb\" target=\"_parent\"><img src=\"https://colab.research.google.com/assets/colab-badge.svg\" alt=\"Open In Colab\"/></a>"
      ]
    },
    {
      "cell_type": "markdown",
      "source": [
        "pandas 데이터 분석\n",
        "1. df = 임시 파일명\n",
        "2. df.head()  \n",
        "3. df.info()  결측치 확인\n",
        "4. IQR : 4분위\n",
        "5. median\n",
        "6. unique : 범주형 data의 level 수\n",
        "7. freg : 출현 횟수"
      ],
      "metadata": {
        "id": "__XncSnPa3q9"
      }
    },
    {
      "cell_type": "code",
      "execution_count": null,
      "metadata": {
        "id": "a-H-iKrCaDWZ"
      },
      "outputs": [],
      "source": [
        "import pandas as pd\n",
        "import numpy as np\n",
        "import matplotlib.pyplot as plt"
      ]
    },
    {
      "cell_type": "code",
      "source": [
        "df = pd.read_csv(\"/data_ex.csv\")"
      ],
      "metadata": {
        "id": "uZSDFbq0gP60"
      },
      "execution_count": null,
      "outputs": []
    },
    {
      "cell_type": "code",
      "source": [
        "df.head()"
      ],
      "metadata": {
        "id": "b4-57sXcgRwb"
      },
      "execution_count": null,
      "outputs": []
    },
    {
      "cell_type": "markdown",
      "source": [
        "non-null : 무응답이 아님"
      ],
      "metadata": {
        "id": "eHRtt5RhhRtH"
      }
    },
    {
      "cell_type": "code",
      "source": [
        "df.info()"
      ],
      "metadata": {
        "id": "3s1eY08Ag6EU"
      },
      "execution_count": null,
      "outputs": []
    },
    {
      "cell_type": "code",
      "source": [
        "df.sample(frac = 0.3)"
      ],
      "metadata": {
        "id": "GatbSx9yhiC8"
      },
      "execution_count": null,
      "outputs": []
    },
    {
      "cell_type": "code",
      "source": [
        "df.sum()"
      ],
      "metadata": {
        "id": "rKx2C1vElCCk"
      },
      "execution_count": null,
      "outputs": []
    },
    {
      "cell_type": "code",
      "source": [
        "df.count()"
      ],
      "metadata": {
        "id": "oVvlzV0xlGCt"
      },
      "execution_count": null,
      "outputs": []
    },
    {
      "cell_type": "code",
      "source": [
        "df[\"ID\"].sum()"
      ],
      "metadata": {
        "id": "KeWLMFO7lOnE"
      },
      "execution_count": null,
      "outputs": []
    },
    {
      "cell_type": "code",
      "source": [
        "df.describe()"
      ],
      "metadata": {
        "id": "sl3nmiGUlfnU"
      },
      "execution_count": null,
      "outputs": []
    },
    {
      "cell_type": "code",
      "source": [
        "df[[\"SEX\", \"AREA\"]].describe()"
      ],
      "metadata": {
        "id": "uqs8HsBKmIwc"
      },
      "execution_count": null,
      "outputs": []
    },
    {
      "cell_type": "code",
      "source": [
        "df[\"SEX\"].unique()"
      ],
      "metadata": {
        "id": "KaPoWU5NmcA1"
      },
      "execution_count": null,
      "outputs": []
    },
    {
      "cell_type": "code",
      "source": [
        "df[\"AREA\"].sort.value()"
      ],
      "metadata": {
        "id": "InS17kvenAsd"
      },
      "execution_count": null,
      "outputs": []
    },
    {
      "cell_type": "markdown",
      "source": [
        "데이터 시각화\n",
        "1. hist(list )\n",
        "2. bar(x,y)"
      ],
      "metadata": {
        "id": "IWMWPWkfn5CE"
      }
    },
    {
      "cell_type": "code",
      "source": [
        "sex = df[\"SEX\"].values.tolist()\n",
        "plt.hist(sex)\n",
        "plt.y([0, 50])\n",
        "plt.xlable(\"sex\")\n",
        "plt.ylable(\"Num\")"
      ],
      "metadata": {
        "id": "VnOMo9d4n4X-"
      },
      "execution_count": null,
      "outputs": []
    },
    {
      "cell_type": "code",
      "source": [
        "grouned_sex = df.groupby(\"SEX\")\n",
        "print(grouned_sex)"
      ],
      "metadata": {
        "id": "-ONbEZzdqY5i"
      },
      "execution_count": null,
      "outputs": []
    },
    {
      "cell_type": "markdown",
      "source": [
        "1. 가장 많이 주문한 메뉴 top10\n",
        "2. 아이템당 주문개수와 총량구하기 ->그룹바이"
      ],
      "metadata": {
        "id": "yL2tv03XBTPD"
      }
    },
    {
      "cell_type": "code",
      "source": [
        "file = \"/content/chipotle.tsv\"\n",
        "chipo = pd.read_csv(file, sep = \"\\t\")"
      ],
      "metadata": {
        "id": "noQPJwfjBkVa"
      },
      "execution_count": null,
      "outputs": []
    },
    {
      "cell_type": "code",
      "source": [
        "chipo.head()"
      ],
      "metadata": {
        "id": "i-HEl89wCBEY"
      },
      "execution_count": null,
      "outputs": []
    },
    {
      "cell_type": "code",
      "source": [
        "chipo.tail()"
      ],
      "metadata": {
        "id": "9vaoc7v5CnbV"
      },
      "execution_count": null,
      "outputs": []
    },
    {
      "cell_type": "code",
      "source": [
        "chipo.info()"
      ],
      "metadata": {
        "id": "2QIp7KTLIjNa"
      },
      "execution_count": null,
      "outputs": []
    },
    {
      "cell_type": "code",
      "source": [
        "chipo.isnull()"
      ],
      "metadata": {
        "id": "Wu4amfAiIuNT"
      },
      "execution_count": null,
      "outputs": []
    },
    {
      "cell_type": "code",
      "source": [
        "chipo.isnull().sum()"
      ],
      "metadata": {
        "id": "remBg1FlIPsH"
      },
      "execution_count": null,
      "outputs": []
    },
    {
      "cell_type": "markdown",
      "source": [
        "1. 가장 많이 주문한 메뉴 top10"
      ],
      "metadata": {
        "id": "NIPgxk1bJjyH"
      }
    },
    {
      "cell_type": "code",
      "source": [
        "item_name_10 = chipo['item_name'].value_counts()[:10]\n",
        "print(item_name_10)"
      ],
      "metadata": {
        "id": "UcUaGFWnAErO"
      },
      "execution_count": null,
      "outputs": []
    },
    {
      "cell_type": "code",
      "source": [
        "for idx,(item,value)  in enumerate(item_name_10.items(),1):\n",
        "  print(\"Top {} : {}      {}\".format(idx,item,value))"
      ],
      "metadata": {
        "id": "BKvTsjrzJ591"
      },
      "execution_count": null,
      "outputs": []
    },
    {
      "cell_type": "code",
      "source": [
        "item_name = chipo['item_name'].value_counts()\n",
        "item_name"
      ],
      "metadata": {
        "id": "TJbrf3xtLC6b"
      },
      "execution_count": null,
      "outputs": []
    },
    {
      "cell_type": "code",
      "source": [
        "plt.hist(item_name, bins = 30)\n",
        "plt.xlabel(\"ordered_item_name\")\n",
        "plt.ylabel(\"ordered_item_count\")\n",
        "plt.show()"
      ],
      "metadata": {
        "id": "E_eOYkHuLkzT"
      },
      "execution_count": null,
      "outputs": []
    },
    {
      "cell_type": "markdown",
      "source": [
        "## 아이템(item_name)별 주문수량(quantity) 분석\n",
        "1. 아이템 별 주문수량 및 총량구하기\n",
        "2. 시각화(bar)"
      ],
      "metadata": {
        "id": "qjgZH502MvWm"
      }
    },
    {
      "cell_type": "code",
      "source": [
        "item_quantity = chipo.groupby('item_name')['quantity'].count()\n",
        "item_quantity"
      ],
      "metadata": {
        "id": "D_-Vn5lFMR9p"
      },
      "execution_count": null,
      "outputs": []
    },
    {
      "cell_type": "code",
      "source": [
        "item_quantity.index"
      ],
      "metadata": {
        "id": "X1__jm27NZnp"
      },
      "execution_count": null,
      "outputs": []
    },
    {
      "cell_type": "code",
      "source": [
        "item_quantity.values"
      ],
      "metadata": {
        "id": "enP7pxeyN7af"
      },
      "execution_count": null,
      "outputs": []
    },
    {
      "cell_type": "code",
      "source": [
        "item_quantitiy_index = item_quantity.index.tolist()\n",
        "len(item_quantitiy_index)\n",
        "x = np.arange(len(item_quantitiy_index))"
      ],
      "metadata": {
        "id": "BvMaxMTgOMg0"
      },
      "execution_count": null,
      "outputs": []
    },
    {
      "cell_type": "code",
      "source": [
        "x"
      ],
      "metadata": {
        "id": "iNeRKfbjO8Tz"
      },
      "execution_count": null,
      "outputs": []
    },
    {
      "cell_type": "code",
      "source": [
        "order_cnt = item_quantity.values.tolist()\n",
        "print(order_cnt)"
      ],
      "metadata": {
        "id": "bpdUpHI8PEf_"
      },
      "execution_count": null,
      "outputs": []
    },
    {
      "cell_type": "code",
      "source": [
        "plt.bar(x, order_cnt)\n",
        "plt.xlabel('item_name')\n",
        "plt.ylabel('ordered Count')\n",
        "plt.title(\"Distribution of all Ordered Item\")\n",
        "plt.show()"
      ],
      "metadata": {
        "id": "isgO7ByhOB83"
      },
      "execution_count": null,
      "outputs": []
    },
    {
      "cell_type": "markdown",
      "source": [
        "## 주무당 평균 주문 금액 계산\n",
        "1. 10달러 이상 주문한 주문번호 출력\n",
        "2. 아이템 별 주문금액 분포도"
      ],
      "metadata": {
        "id": "kS_pZBEwRSUM"
      }
    },
    {
      "cell_type": "code",
      "source": [
        "chipo.head()"
      ],
      "metadata": {
        "id": "FI68zURQQ3Q6"
      },
      "execution_count": null,
      "outputs": []
    },
    {
      "cell_type": "code",
      "source": [
        "chipo.info()"
      ],
      "metadata": {
        "id": "QuGJpm8DSSB0"
      },
      "execution_count": null,
      "outputs": []
    },
    {
      "cell_type": "code",
      "source": [
        "##item_price 를 수치형으로 변환\n",
        "x = chipo['item_price']\n",
        "chipo['item_price'] = chipo['item_price'].apply(lambda x : float(x[1:]))"
      ],
      "metadata": {
        "id": "ZLgspwj9SgEP"
      },
      "execution_count": null,
      "outputs": []
    },
    {
      "cell_type": "code",
      "source": [
        "chipo.info()"
      ],
      "metadata": {
        "id": "MHXjWZxNVYhy"
      },
      "execution_count": null,
      "outputs": []
    },
    {
      "cell_type": "code",
      "source": [
        "##주문번호당 평균 금액 계산\n",
        "item_price = chipo.groupby('order_id')['item_price'].sum()\n",
        "item_price"
      ],
      "metadata": {
        "id": "wcy0Kp9AR5aP"
      },
      "execution_count": null,
      "outputs": []
    },
    {
      "cell_type": "code",
      "source": [
        "chipo.groupby('order_id')['item_price'].sum().mean()"
      ],
      "metadata": {
        "id": "lm2_84HcSPdH"
      },
      "execution_count": null,
      "outputs": []
    },
    {
      "cell_type": "code",
      "source": [
        "item_price.index"
      ],
      "metadata": {
        "id": "O-s5qUOqXXpZ"
      },
      "execution_count": null,
      "outputs": []
    },
    {
      "cell_type": "code",
      "source": [
        "## x: order_id (가격),  y: price \n",
        "item_price_index = item_price.index.tolist()"
      ],
      "metadata": {
        "id": "yx0dUkd4SO0X"
      },
      "execution_count": null,
      "outputs": []
    },
    {
      "cell_type": "code",
      "source": [
        "x = np.arange(len(item_price_index))\n",
        "x"
      ],
      "metadata": {
        "id": "qM0TfjwMWg4W"
      },
      "execution_count": null,
      "outputs": []
    },
    {
      "cell_type": "code",
      "source": [
        "item_price_values = item_price.values.tolist()\n",
        "print(item_price_values)"
      ],
      "metadata": {
        "id": "qDCSHMHNWnn7"
      },
      "execution_count": null,
      "outputs": []
    },
    {
      "cell_type": "code",
      "source": [
        "plt.bar(x,item_price_values)\n",
        "plt.xlabel('Order_ID')\n",
        "plt.ylabel('Item price')\n",
        "plt.ylim([0,130])\n",
        "plt.title(\"Distribution of Item Price\")\n",
        "plt.show()"
      ],
      "metadata": {
        "id": "PpkIhKMnYdIX"
      },
      "execution_count": null,
      "outputs": []
    },
    {
      "cell_type": "code",
      "source": [
        "## item_price hist()그리기\n",
        "plt.hist(item_price, bins = 30)\n",
        "plt.xlim([0,130])\n",
        "plt.xlabel('item_prtice')\n",
        "plt.ylabel('price_count')\n",
        "plt.show()"
      ],
      "metadata": {
        "id": "1oBvDQLRaFTh"
      },
      "execution_count": null,
      "outputs": []
    },
    {
      "cell_type": "code",
      "source": [],
      "metadata": {
        "id": "fuixZPLVd0PU"
      },
      "execution_count": null,
      "outputs": []
    },
    {
      "cell_type": "markdown",
      "source": [],
      "metadata": {
        "id": "5120RDa8aXFM"
      }
    }
  ]
}