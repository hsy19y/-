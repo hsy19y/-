{
  "nbformat": 4,
  "nbformat_minor": 0,
  "metadata": {
    "colab": {
      "provenance": [],
      "authorship_tag": "ABX9TyMmmlafX+sa/Cngm4zAKXOU",
      "include_colab_link": true
    },
    "kernelspec": {
      "name": "python3",
      "display_name": "Python 3"
    },
    "language_info": {
      "name": "python"
    }
  },
  "cells": [
    {
      "cell_type": "markdown",
      "metadata": {
        "id": "view-in-github",
        "colab_type": "text"
      },
      "source": [
        "<a href=\"https://colab.research.google.com/github/hsy19y/-/blob/main/3_20_%EA%B8%B0%EA%B3%84%ED%95%99%EC%8A%B5.ipynb\" target=\"_parent\"><img src=\"https://colab.research.google.com/assets/colab-badge.svg\" alt=\"Open In Colab\"/></a>"
      ]
    },
    {
      "cell_type": "markdown",
      "source": [
        "\n",
        "\n",
        "1. 반복문 \n",
        "2. #집합명.append() : 더하기, \n",
        "3. 집합명.remove() : 제외하기\n",
        "\n",
        "\n"
      ],
      "metadata": {
        "id": "SvwPUfDgXuao"
      }
    },
    {
      "cell_type": "code",
      "execution_count": null,
      "metadata": {
        "colab": {
          "base_uri": "https://localhost:8080/"
        },
        "id": "AADHcgEAXcZU",
        "outputId": "aca39f82-291e-45bb-8f5a-6270fe04049c"
      },
      "outputs": [
        {
          "output_type": "stream",
          "name": "stdout",
          "text": [
            "0\n",
            "1\n",
            "2\n",
            "3\n",
            "4\n",
            "5\n",
            "6\n",
            "7\n",
            "8\n",
            "9\n"
          ]
        }
      ],
      "source": [
        "for i in range(10):\n",
        "  print(i)"
      ]
    },
    {
      "cell_type": "code",
      "source": [
        "a = [1,2,3]\n",
        "b = [4,5,6]\n",
        "c = [3,4,5]\n",
        "U1 = a+b\n",
        "U2 = a+c"
      ],
      "metadata": {
        "id": "Cki7OJgWYlqX"
      },
      "execution_count": 3,
      "outputs": []
    },
    {
      "cell_type": "code",
      "source": [
        "a = []\n",
        "for i in range(1):\n",
        "  a.append(i)\n",
        "  print(a)"
      ],
      "metadata": {
        "colab": {
          "base_uri": "https://localhost:8080/"
        },
        "id": "x2y5oqq8Ylm4",
        "outputId": "e5d47891-7c5b-4cff-b34b-a27f0d43a1f7"
      },
      "execution_count": 6,
      "outputs": [
        {
          "output_type": "stream",
          "name": "stdout",
          "text": [
            "[0]\n"
          ]
        }
      ]
    },
    {
      "cell_type": "code",
      "source": [
        "b = []\n",
        "for i in range(4,7):\n",
        "  b.append(i)\n",
        "  print(b)"
      ],
      "metadata": {
        "colab": {
          "base_uri": "https://localhost:8080/"
        },
        "id": "7PxzQesOYlfI",
        "outputId": "ead695f1-8ebd-4172-e79b-9674c7ccf249"
      },
      "execution_count": null,
      "outputs": [
        {
          "output_type": "stream",
          "name": "stdout",
          "text": [
            "[4]\n",
            "[4, 5]\n",
            "[4, 5, 6]\n"
          ]
        }
      ]
    },
    {
      "cell_type": "code",
      "source": [
        "c = []\n",
        "for i in range(3,6):\n",
        "  c.append(i)\n",
        "  print(c)"
      ],
      "metadata": {
        "colab": {
          "base_uri": "https://localhost:8080/"
        },
        "id": "1DDyR0V8YlVY",
        "outputId": "1b277f9d-19fc-429b-bdca-242aea8bd069"
      },
      "execution_count": null,
      "outputs": [
        {
          "output_type": "stream",
          "name": "stdout",
          "text": [
            "[3]\n",
            "[3, 4]\n",
            "[3, 4, 5]\n"
          ]
        }
      ]
    },
    {
      "cell_type": "code",
      "source": [
        "U1"
      ],
      "metadata": {
        "colab": {
          "base_uri": "https://localhost:8080/"
        },
        "id": "ftKcbkdJbgKe",
        "outputId": "6fc08925-9932-44d6-8ef4-f7d8e0cc2e72"
      },
      "execution_count": null,
      "outputs": [
        {
          "output_type": "execute_result",
          "data": {
            "text/plain": [
              "[1, 2, 3, 4, 5, 6]"
            ]
          },
          "metadata": {},
          "execution_count": 27
        }
      ]
    },
    {
      "cell_type": "code",
      "source": [
        "a = [1,2,3]\n",
        "b = [4,5,6]\n",
        "c = [3,4,5]\n",
        "U1 = a+b\n",
        "U2 = a+c\n",
        "for i in a:\n",
        "  if i in c:\n",
        "    print(i)"
      ],
      "metadata": {
        "colab": {
          "base_uri": "https://localhost:8080/"
        },
        "id": "evzIOLwhdtSo",
        "outputId": "e58d2134-ba0a-49dd-e1be-72f14dd4e7cf"
      },
      "execution_count": 28,
      "outputs": [
        {
          "output_type": "stream",
          "name": "stdout",
          "text": [
            "3\n"
          ]
        }
      ]
    },
    {
      "cell_type": "code",
      "source": [
        "#교집합\n",
        "I = []\n",
        "for i in a:\n",
        "  if i in c:\n",
        "#    print(i)\n",
        "     I.append(i)\n",
        "I"
      ],
      "metadata": {
        "colab": {
          "base_uri": "https://localhost:8080/"
        },
        "id": "i4Xn6-LrcVZW",
        "outputId": "ee0d4e3a-0138-45f1-bdd3-a63b93c4411c"
      },
      "execution_count": 23,
      "outputs": [
        {
          "output_type": "execute_result",
          "data": {
            "text/plain": [
              "[3]"
            ]
          },
          "metadata": {},
          "execution_count": 23
        }
      ]
    },
    {
      "cell_type": "code",
      "source": [
        "#합집합\n",
        "\n",
        "for i in a:\n",
        "  if i in c:\n",
        "#    print(i)\n",
        "     a.remove(i)\n",
        "a"
      ],
      "metadata": {
        "colab": {
          "base_uri": "https://localhost:8080/"
        },
        "id": "1v3fGgIGcVTf",
        "outputId": "7405785a-be34-4cda-e997-bd4e858aafad"
      },
      "execution_count": 27,
      "outputs": [
        {
          "output_type": "execute_result",
          "data": {
            "text/plain": [
              "[1, 2]"
            ]
          },
          "metadata": {},
          "execution_count": 27
        }
      ]
    },
    {
      "cell_type": "code",
      "source": [
        "U3 = a+c\n",
        "U3"
      ],
      "metadata": {
        "colab": {
          "base_uri": "https://localhost:8080/"
        },
        "id": "Enzj7huEcVRH",
        "outputId": "2b7cda04-628b-4037-d2de-558a74839aea"
      },
      "execution_count": 29,
      "outputs": [
        {
          "output_type": "execute_result",
          "data": {
            "text/plain": [
              "[1, 2, 3, 3, 4, 5]"
            ]
          },
          "metadata": {},
          "execution_count": 29
        }
      ]
    },
    {
      "cell_type": "code",
      "source": [
        "for i in a:\n",
        "  if i not in c:\n",
        "    c.append(i)\n",
        "c\n"
      ],
      "metadata": {
        "colab": {
          "base_uri": "https://localhost:8080/"
        },
        "id": "m1-wWp3GcVJ2",
        "outputId": "27406356-b7a5-42c2-ce40-8e358bfca4f5"
      },
      "execution_count": 30,
      "outputs": [
        {
          "output_type": "execute_result",
          "data": {
            "text/plain": [
              "[3, 4, 5, 1, 2]"
            ]
          },
          "metadata": {},
          "execution_count": 30
        }
      ]
    },
    {
      "cell_type": "code",
      "source": [
        "c.sort()"
      ],
      "metadata": {
        "id": "P43-cHWGcVBm"
      },
      "execution_count": null,
      "outputs": []
    },
    {
      "cell_type": "code",
      "source": [
        "c"
      ],
      "metadata": {
        "colab": {
          "base_uri": "https://localhost:8080/"
        },
        "id": "b4L4h45vfeFm",
        "outputId": "14cf23e7-b658-417d-9883-5b1cb697ba49"
      },
      "execution_count": null,
      "outputs": [
        {
          "output_type": "execute_result",
          "data": {
            "text/plain": [
              "[1, 2, 3, 4, 5]"
            ]
          },
          "metadata": {},
          "execution_count": 59
        }
      ]
    },
    {
      "cell_type": "code",
      "source": [
        "a = [1,2,3]\n",
        "b = [4,5,6]\n",
        "c = [3,4,5]\n",
        "for i in a:\n",
        "  if i not in c:\n",
        "    a.remove(i)\n",
        "a"
      ],
      "metadata": {
        "colab": {
          "base_uri": "https://localhost:8080/"
        },
        "id": "ahZ784vHhPT6",
        "outputId": "c0cc63f6-a912-4c88-8447-1941c0c2c16b"
      },
      "execution_count": null,
      "outputs": [
        {
          "output_type": "execute_result",
          "data": {
            "text/plain": [
              "[2, 3]"
            ]
          },
          "metadata": {},
          "execution_count": 92
        }
      ]
    },
    {
      "cell_type": "code",
      "source": [
        "a = [1,2,3]\n",
        "b = [4,5,6]\n",
        "c = [3,4,5]\n",
        "for i in b:\n",
        "  if i not in c:\n",
        "    b.remove(i)\n",
        "b\n"
      ],
      "metadata": {
        "colab": {
          "base_uri": "https://localhost:8080/"
        },
        "id": "izsWDIxSfg1d",
        "outputId": "b87d1b65-6260-4192-cf63-ce3423741db1"
      },
      "execution_count": null,
      "outputs": [
        {
          "output_type": "execute_result",
          "data": {
            "text/plain": [
              "[4, 5]"
            ]
          },
          "metadata": {},
          "execution_count": 90
        }
      ]
    },
    {
      "cell_type": "code",
      "source": [
        "a = [1,2,3]\n",
        "b = [4,5,6]\n",
        "c = [3,4,5]\n",
        "for i in c:\n",
        "  if i not in b:\n",
        "    c.remove(i)\n",
        "c\n"
      ],
      "metadata": {
        "colab": {
          "base_uri": "https://localhost:8080/"
        },
        "id": "d4S4X8cZfhIV",
        "outputId": "60bae432-df3c-4224-dde2-743d48ca3f11"
      },
      "execution_count": null,
      "outputs": [
        {
          "output_type": "execute_result",
          "data": {
            "text/plain": [
              "[4, 5]"
            ]
          },
          "metadata": {},
          "execution_count": 89
        }
      ]
    },
    {
      "cell_type": "markdown",
      "source": [
        "#while"
      ],
      "metadata": {
        "id": "4hF0SucliDMq"
      }
    },
    {
      "cell_type": "code",
      "source": [
        "num = 0 #초기화 필요\n",
        "while num<10:\n",
        "  print(num)\n",
        "  num+= 1 #자체 업데이트 필요"
      ],
      "metadata": {
        "colab": {
          "base_uri": "https://localhost:8080/"
        },
        "id": "ohmqRgR4iD1r",
        "outputId": "a1eda359-18d2-4ae3-86d2-5d016807d1b8"
      },
      "execution_count": 36,
      "outputs": [
        {
          "output_type": "stream",
          "name": "stdout",
          "text": [
            "0\n",
            "1\n",
            "2\n",
            "3\n",
            "4\n",
            "5\n",
            "6\n",
            "7\n",
            "8\n",
            "9\n"
          ]
        }
      ]
    },
    {
      "cell_type": "code",
      "source": [
        "print(\"원하는 단을 선택\")\n",
        "num_2 = int(input())\n",
        "if num_2 < 10:\n",
        "  num = 0\n",
        "while num < 9:\n",
        "  num += 1\n",
        "  print(num*num_2)"
      ],
      "metadata": {
        "colab": {
          "base_uri": "https://localhost:8080/"
        },
        "id": "8IilJcu2iDsD",
        "outputId": "d86e03d1-229e-4d8d-abc3-c9b64e4e2e50"
      },
      "execution_count": 81,
      "outputs": [
        {
          "output_type": "stream",
          "name": "stdout",
          "text": [
            "원하는 단을 선택\n",
            "5\n",
            "5\n",
            "10\n",
            "15\n",
            "20\n",
            "25\n",
            "30\n",
            "35\n",
            "40\n",
            "45\n"
          ]
        }
      ]
    },
    {
      "cell_type": "code",
      "source": [
        "while True:\n",
        " password  = input()\n",
        " if password == \"333\":\n",
        "    print(\"통과, \\n\")\n",
        "    break\n",
        " else:\n",
        "  print(\"실패, \\n\")\n",
        " continue"
      ],
      "metadata": {
        "colab": {
          "base_uri": "https://localhost:8080/"
        },
        "id": "nx7dOR9tl1pu",
        "outputId": "e1905be0-e6d4-48dc-8a64-54646cbd89bb"
      },
      "execution_count": 88,
      "outputs": [
        {
          "output_type": "stream",
          "name": "stdout",
          "text": [
            "333\n",
            "통과, \\password\n"
          ]
        }
      ]
    },
    {
      "cell_type": "code",
      "source": [
        "#순차곱이 fac>1000\n",
        "#break\n"
      ],
      "metadata": {
        "id": "fLNGgR29niBO"
      },
      "execution_count": null,
      "outputs": []
    },
    {
      "cell_type": "code",
      "source": [
        "#로또비밀번호6개 추출\n",
        "import random\n",
        "num_range = range(1,46)\n",
        "num_list = list(num_range)\n",
        "random.shuffle(num_list)\n",
        "print(num_list)\n",
        "len(num_list)"
      ],
      "metadata": {
        "colab": {
          "base_uri": "https://localhost:8080/"
        },
        "id": "5cZsKnJjqFsp",
        "outputId": "d7408bae-b5c7-4e1d-b347-21617f781c57"
      },
      "execution_count": null,
      "outputs": [
        {
          "output_type": "stream",
          "name": "stdout",
          "text": [
            "[11, 29, 26, 35, 10, 44, 2, 17, 38, 6, 22, 41, 8, 40, 37, 7, 18, 43, 5, 27, 19, 24, 12, 16, 9, 1, 15, 31, 34, 25, 45, 3, 36, 33, 4, 21, 28, 42, 14, 30, 39, 32, 13, 23, 20]\n"
          ]
        },
        {
          "output_type": "execute_result",
          "data": {
            "text/plain": [
              "45"
            ]
          },
          "metadata": {},
          "execution_count": 145
        }
      ]
    },
    {
      "cell_type": "code",
      "source": [
        "lotto = []\n",
        "while len(lotto)<6:\n",
        "  random.shuffle(num_list)\n",
        "  num_selected = num_list[-1]\n",
        "  lotto.append(num_selected)\n",
        "print(lotto)"
      ],
      "metadata": {
        "colab": {
          "base_uri": "https://localhost:8080/"
        },
        "id": "vA6Ir5WEr3Jx",
        "outputId": "03704e9e-165c-4c1c-bcd1-18c9abd0bf80"
      },
      "execution_count": null,
      "outputs": [
        {
          "output_type": "stream",
          "name": "stdout",
          "text": [
            "[28, 26, 40, 28, 45, 9]\n"
          ]
        }
      ]
    },
    {
      "cell_type": "code",
      "source": [],
      "metadata": {
        "id": "-67ByE2ar3Bh"
      },
      "execution_count": null,
      "outputs": []
    },
    {
      "cell_type": "markdown",
      "source": [
        "\n",
        "\n",
        "1.   random() 0~1 사이 flaot 리턴\n",
        "2.  randinf(a,b) a,b사이 정수리턴\n",
        "\n",
        "1. nu\n",
        "2.   항목 추가\n",
        "\n",
        "\n",
        "\n"
      ],
      "metadata": {
        "id": "ngHrTYMGsxHD"
      }
    },
    {
      "cell_type": "code",
      "source": [
        "A = []\n",
        "while True:\n",
        "  e = round(random.random(),2)\n",
        "  A.append(e)\n",
        "  if len(A) == 5:\n",
        "    break\n",
        "print(A)"
      ],
      "metadata": {
        "colab": {
          "base_uri": "https://localhost:8080/"
        },
        "id": "-vyCFO5rtLmv",
        "outputId": "1431743c-e9f9-4694-d61e-1abfdfa604a2"
      },
      "execution_count": null,
      "outputs": [
        {
          "output_type": "stream",
          "name": "stdout",
          "text": [
            "[0.13, 0.21, 0.45, 0.65, 0.36]\n"
          ]
        }
      ]
    },
    {
      "cell_type": "code",
      "source": [
        "num = 0\n",
        "import random\n",
        "while num < 10:\n",
        " e = round(random.randint(1,30))\n",
        " num += 1\n",
        " print(e)\n"
      ],
      "metadata": {
        "colab": {
          "base_uri": "https://localhost:8080/"
        },
        "id": "uw7j-IeetrSq",
        "outputId": "048768de-7cd3-4651-8521-630df3c92305"
      },
      "execution_count": 103,
      "outputs": [
        {
          "output_type": "stream",
          "name": "stdout",
          "text": [
            "16\n",
            "28\n",
            "11\n",
            "11\n",
            "3\n",
            "29\n",
            "10\n",
            "13\n",
            "16\n",
            "19\n"
          ]
        }
      ]
    },
    {
      "cell_type": "code",
      "source": [
        "random.sample(num_list,6)"
      ],
      "metadata": {
        "colab": {
          "base_uri": "https://localhost:8080/"
        },
        "id": "sT--i916upDT",
        "outputId": "6d4b80da-c572-43d0-e36b-3a5237e9286a"
      },
      "execution_count": null,
      "outputs": [
        {
          "output_type": "execute_result",
          "data": {
            "text/plain": [
              "[14, 18, 13, 28, 22, 7]"
            ]
          },
          "metadata": {},
          "execution_count": 150
        }
      ]
    },
    {
      "cell_type": "code",
      "source": [
        "#과제 1.소수찾기(검색기 아니면 몇 이하),2.약수찾기,3.소인수 찾기, 4.최대공약수 5. 최소공배수\n",
        "# while ~ append, break, continue 사용 "
      ],
      "metadata": {
        "id": "7ruyzPMKvCCx"
      },
      "execution_count": null,
      "outputs": []
    },
    {
      "cell_type": "code",
      "source": [
        "num = int(input(\"정수를 입력: \"))\n",
        "if num == 1:\n",
        "    print(\"1은 소수가 아님.\")\n",
        "elif num == 2:\n",
        "    print(\"2는 소수임.\")\n",
        "else:\n",
        "    for i in range(2, num):\n",
        "      if num % i == 0:\n",
        "        break\n",
        "    if a:\n",
        "        print(num, \"소수입니다.\")\n",
        "    else:\n",
        "        print(num, \"소수가 아닙니다.\")"
      ],
      "metadata": {
        "colab": {
          "base_uri": "https://localhost:8080/"
        },
        "id": "krHg26zHpGAU",
        "outputId": "1d3ee426-be50-4ac7-d5cc-d31279e455b2"
      },
      "execution_count": 33,
      "outputs": [
        {
          "output_type": "stream",
          "name": "stdout",
          "text": [
            "정수를 입력: 23\n",
            "23 소수입니다.\n"
          ]
        }
      ]
    },
    {
      "cell_type": "code",
      "source": [
        "num = int(input(\"정수를 입력: \"))\n",
        "for i in range(1, num + 1):\n",
        "  if num % i == 0:\n",
        "    print(i)"
      ],
      "metadata": {
        "colab": {
          "base_uri": "https://localhost:8080/"
        },
        "id": "gAbizwI59hnE",
        "outputId": "821ea424-a756-4b65-f245-3915ea05812b"
      },
      "execution_count": 38,
      "outputs": [
        {
          "output_type": "stream",
          "name": "stdout",
          "text": [
            "정수를 입력: 64\n",
            "1\n",
            "2\n",
            "4\n",
            "8\n",
            "16\n",
            "32\n",
            "64\n"
          ]
        }
      ]
    },
    {
      "cell_type": "code",
      "source": [
        "num = int(input(\"정수를 입력: \"))\n",
        "a = []\n",
        "for i in range(2, num+1):\n",
        "    while num % i == 0:\n",
        "        a.append(i)\n",
        "        num /= i\n",
        "else:\n",
        "    print(\"소인수: \", a)"
      ],
      "metadata": {
        "colab": {
          "base_uri": "https://localhost:8080/"
        },
        "id": "w-creBhSC8hx",
        "outputId": "13f838f6-4c3c-4f7f-9547-0462e50120e8"
      },
      "execution_count": 11,
      "outputs": [
        {
          "output_type": "stream",
          "name": "stdout",
          "text": [
            "정수를 입력: 10\n",
            "소인수:  [2, 5]\n"
          ]
        }
      ]
    },
    {
      "cell_type": "code",
      "source": [
        "num = int(input(\"첫번째 정수를 입력 : \"))\n",
        "num_2 = int(input(\"두번째 정정수를 입력 : \"))\n",
        "for i in range(1, num + 1):\n",
        "  if (num % i == 0) & (num_2 % i == 0):\n",
        "    a = i   \n",
        "print(\"%d와 %d의 최대공약수는 %d\"%(num, num_2, a))"
      ],
      "metadata": {
        "colab": {
          "base_uri": "https://localhost:8080/"
        },
        "id": "QU2yvlb5XFrZ",
        "outputId": "4d8d30d0-bf77-4979-f18a-8c2e2d11a349"
      },
      "execution_count": 60,
      "outputs": [
        {
          "output_type": "stream",
          "name": "stdout",
          "text": [
            "첫번째 정수를 입력 : 15\n",
            "두번째 정정수를 입력 : 50\n",
            "15와 50의 최대공약수는 5\n"
          ]
        }
      ]
    },
    {
      "cell_type": "code",
      "source": [
        "num = int(input(\"첫번째 정수를 입력 : \"))\n",
        "num_2 = int(input(\"두번째 정수를 입력 : \"))\n",
        "c = num*num_2\n",
        "if num < num_2:\n",
        " a = num\n",
        "else: \n",
        " num_2 < num\n",
        " a = num_2\n",
        " for i in range(a, 0, -1):\n",
        "    if (num % i == 0) and (num_2 % i == 0):\n",
        "        gcd = i\n",
        "        break\n",
        "A = c // gcd\n",
        "print(\"최소 공배수 : \", A)"
      ],
      "metadata": {
        "colab": {
          "base_uri": "https://localhost:8080/"
        },
        "id": "nfttdHrYYE_3",
        "outputId": "a9609a45-54ad-49bc-ff82-496a02138ad0"
      },
      "execution_count": 67,
      "outputs": [
        {
          "output_type": "stream",
          "name": "stdout",
          "text": [
            "첫번째 정수를 입력 : 15\n",
            "두번째 정수를 입력 : 50\n",
            "최소 공배수 :  150\n"
          ]
        }
      ]
    }
  ]
}