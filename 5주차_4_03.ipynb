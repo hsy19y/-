{
  "nbformat": 4,
  "nbformat_minor": 0,
  "metadata": {
    "colab": {
      "provenance": [],
      "authorship_tag": "ABX9TyPsi3JxQPKOrnX08GQ3sDUe",
      "include_colab_link": true
    },
    "kernelspec": {
      "name": "python3",
      "display_name": "Python 3"
    },
    "language_info": {
      "name": "python"
    },
    "gpuClass": "standard"
  },
  "cells": [
    {
      "cell_type": "markdown",
      "metadata": {
        "id": "view-in-github",
        "colab_type": "text"
      },
      "source": [
        "<a href=\"https://colab.research.google.com/github/hsy19y/-/blob/main/5%EC%A3%BC%EC%B0%A8_4_03.ipynb\" target=\"_parent\"><img src=\"https://colab.research.google.com/assets/colab-badge.svg\" alt=\"Open In Colab\"/></a>"
      ]
    },
    {
      "cell_type": "code",
      "execution_count": null,
      "metadata": {
        "id": "MsJmIa4cdksW"
      },
      "outputs": [],
      "source": []
    },
    {
      "cell_type": "markdown",
      "source": [],
      "metadata": {
        "id": "SypVdF0id5Sn"
      }
    },
    {
      "cell_type": "code",
      "source": [
        "import tensorflow as tf\n",
        "import numpy as np\n",
        "import matplotlib.pyplot as plt"
      ],
      "metadata": {
        "id": "xu40jwQ5d6Pv"
      },
      "execution_count": 128,
      "outputs": []
    },
    {
      "cell_type": "code",
      "source": [
        "a = 1\n",
        "b = 2 \n",
        "c = tf. math.add(a,b)\n",
        "c"
      ],
      "metadata": {
        "id": "5tGuUS5-d6Iv",
        "colab": {
          "base_uri": "https://localhost:8080/"
        },
        "outputId": "a314f11e-4bdd-4f15-b503-b14bbf03cde9"
      },
      "execution_count": 2,
      "outputs": [
        {
          "output_type": "execute_result",
          "data": {
            "text/plain": [
              "<tf.Tensor: shape=(), dtype=int32, numpy=3>"
            ]
          },
          "metadata": {},
          "execution_count": 2
        }
      ]
    },
    {
      "cell_type": "code",
      "source": [
        "c.numpy()"
      ],
      "metadata": {
        "id": "doPBkGk5d6AX",
        "colab": {
          "base_uri": "https://localhost:8080/"
        },
        "outputId": "741e1515-4717-4e2d-8827-51b9622e875c"
      },
      "execution_count": 3,
      "outputs": [
        {
          "output_type": "execute_result",
          "data": {
            "text/plain": [
              "3"
            ]
          },
          "metadata": {},
          "execution_count": 3
        }
      ]
    },
    {
      "cell_type": "markdown",
      "source": [
        "스칼라 정의\n",
        "1. "
      ],
      "metadata": {
        "id": "4JFrJv8zf9nZ"
      }
    },
    {
      "cell_type": "code",
      "source": [
        "c1 = tf.constant(1)\n",
        "c2 = tf.constant(2)\n",
        "print(c1,c2)"
      ],
      "metadata": {
        "id": "ReWBGl3kd5mf",
        "colab": {
          "base_uri": "https://localhost:8080/"
        },
        "outputId": "758c9308-323f-48e4-cdaa-14d26a23e966"
      },
      "execution_count": 4,
      "outputs": [
        {
          "output_type": "stream",
          "name": "stdout",
          "text": [
            "tf.Tensor(1, shape=(), dtype=int32) tf.Tensor(2, shape=(), dtype=int32)\n"
          ]
        }
      ]
    },
    {
      "cell_type": "code",
      "source": [
        "f1 = tf.cast(c1,tf.float32)\n",
        "f2 = tf.cast(c2,tf.float32)\n",
        "print(f1,f2)"
      ],
      "metadata": {
        "id": "q7za_E4cgSTJ",
        "colab": {
          "base_uri": "https://localhost:8080/"
        },
        "outputId": "ce5beb91-6433-46f1-86ed-e62d93330e09"
      },
      "execution_count": 5,
      "outputs": [
        {
          "output_type": "stream",
          "name": "stdout",
          "text": [
            "tf.Tensor(1.0, shape=(), dtype=float32) tf.Tensor(2.0, shape=(), dtype=float32)\n"
          ]
        }
      ]
    },
    {
      "cell_type": "markdown",
      "source": [
        "1. add()\n",
        "2. subtract()\n",
        "3. multiply()\n",
        "4. dvide()\n",
        "5. mod() : 나머지\n",
        "6. floordv : 몫\n"
      ],
      "metadata": {
        "id": "RnZlxIesgsww"
      }
    },
    {
      "cell_type": "code",
      "source": [
        "add = tf.math.add(c1,c2)\n",
        "add.numpy()"
      ],
      "metadata": {
        "id": "_eYD-Zepgrip",
        "colab": {
          "base_uri": "https://localhost:8080/"
        },
        "outputId": "d2fa2cc9-faa4-4cb3-8bf3-b15d9fe5ed74"
      },
      "execution_count": 6,
      "outputs": [
        {
          "output_type": "execute_result",
          "data": {
            "text/plain": [
              "3"
            ]
          },
          "metadata": {},
          "execution_count": 6
        }
      ]
    },
    {
      "cell_type": "code",
      "source": [
        "sub = tf.math.subtract(c1,c2)\n",
        "sub"
      ],
      "metadata": {
        "id": "eneuuuPdg0IJ",
        "colab": {
          "base_uri": "https://localhost:8080/"
        },
        "outputId": "6ac8df49-6a0d-4396-9425-f4f3ca9cb76d"
      },
      "execution_count": 7,
      "outputs": [
        {
          "output_type": "execute_result",
          "data": {
            "text/plain": [
              "<tf.Tensor: shape=(), dtype=int32, numpy=-1>"
            ]
          },
          "metadata": {},
          "execution_count": 7
        }
      ]
    },
    {
      "cell_type": "code",
      "source": [
        "multiply = tf.math.multiply(c1,c2)\n",
        "multiply"
      ],
      "metadata": {
        "id": "-jr3Yy7Fhx7J",
        "colab": {
          "base_uri": "https://localhost:8080/"
        },
        "outputId": "34f8ac82-b124-435a-879a-94949280ce98"
      },
      "execution_count": 8,
      "outputs": [
        {
          "output_type": "execute_result",
          "data": {
            "text/plain": [
              "<tf.Tensor: shape=(), dtype=int32, numpy=2>"
            ]
          },
          "metadata": {},
          "execution_count": 8
        }
      ]
    },
    {
      "cell_type": "code",
      "source": [
        "divide = tf.math.divide(c1,c2)\n",
        "divide"
      ],
      "metadata": {
        "id": "sBXChgSVhxxp"
      },
      "execution_count": null,
      "outputs": []
    },
    {
      "cell_type": "code",
      "source": [
        "mod = tf.math.mod(c1,c2)\n",
        "mod"
      ],
      "metadata": {
        "id": "yzvre-qlhxoB",
        "colab": {
          "base_uri": "https://localhost:8080/"
        },
        "outputId": "940ad033-ef10-41a3-8724-90b5a19dc666"
      },
      "execution_count": 10,
      "outputs": [
        {
          "output_type": "execute_result",
          "data": {
            "text/plain": [
              "<tf.Tensor: shape=(), dtype=int32, numpy=1>"
            ]
          },
          "metadata": {},
          "execution_count": 10
        }
      ]
    },
    {
      "cell_type": "markdown",
      "source": [
        "vector\n",
        "1. 변수명*[] :리스트 생성\n",
        "2. 변수명*tf.constant() : 텐서 변환"
      ],
      "metadata": {
        "id": "4sFmNCoGigUk"
      }
    },
    {
      "cell_type": "code",
      "source": [
        "py_list = [10,20,30]\n",
        "ten_list = tf.constant(py_list, dtype = tf.int32)  \n",
        "ten_list"
      ],
      "metadata": {
        "id": "iD-Ta8hcixup",
        "colab": {
          "base_uri": "https://localhost:8080/"
        },
        "outputId": "f33a6756-5df6-4a2a-f737-12ddcf1d7c6e"
      },
      "execution_count": 18,
      "outputs": [
        {
          "output_type": "execute_result",
          "data": {
            "text/plain": [
              "<tf.Tensor: shape=(3,), dtype=int32, numpy=array([10, 20, 30], dtype=int32)>"
            ]
          },
          "metadata": {},
          "execution_count": 18
        }
      ]
    },
    {
      "cell_type": "code",
      "source": [
        "num_arr = np.array([10,10,10])\n",
        "ten_arr = tf.constant(num_arr, dtype = tf.int32)\n",
        "ten_arr"
      ],
      "metadata": {
        "id": "3VFt3FswiyAa",
        "colab": {
          "base_uri": "https://localhost:8080/"
        },
        "outputId": "6c637ae3-7c71-46bd-b57b-96266f344638"
      },
      "execution_count": 21,
      "outputs": [
        {
          "output_type": "execute_result",
          "data": {
            "text/plain": [
              "<tf.Tensor: shape=(3,), dtype=int32, numpy=array([10, 10, 10], dtype=int32)>"
            ]
          },
          "metadata": {},
          "execution_count": 21
        }
      ]
    },
    {
      "cell_type": "code",
      "source": [
        "A = ten_list + ten_arr\n",
        "S = ten_list - ten_arr\n",
        "M = ten_list * ten_arr\n",
        "D = ten_list / ten_arr\n",
        "MO = ten_list % ten_arr\n",
        "Fd = ten_list // ten_arr"
      ],
      "metadata": {
        "id": "T9MJp9n4jgMq"
      },
      "execution_count": 22,
      "outputs": []
    },
    {
      "cell_type": "code",
      "source": [
        "A.numpy()"
      ],
      "metadata": {
        "id": "RtprivXSlIbR",
        "colab": {
          "base_uri": "https://localhost:8080/"
        },
        "outputId": "8fa394f9-c405-421a-8f8e-052ece7f51bd"
      },
      "execution_count": 23,
      "outputs": [
        {
          "output_type": "execute_result",
          "data": {
            "text/plain": [
              "array([20, 30, 40], dtype=int32)"
            ]
          },
          "metadata": {},
          "execution_count": 23
        }
      ]
    },
    {
      "cell_type": "code",
      "source": [
        "D.numpy()"
      ],
      "metadata": {
        "colab": {
          "base_uri": "https://localhost:8080/"
        },
        "id": "0ThRdt0GN6ys",
        "outputId": "f37e0e15-8260-4d61-bb34-99d4553cbf9d"
      },
      "execution_count": 24,
      "outputs": [
        {
          "output_type": "execute_result",
          "data": {
            "text/plain": [
              "array([1., 2., 3.])"
            ]
          },
          "metadata": {},
          "execution_count": 24
        }
      ]
    },
    {
      "cell_type": "code",
      "source": [
        "l_a = [1,0]\n",
        "l_b = [-1,2]\n",
        "l_c = [1,0]"
      ],
      "metadata": {
        "id": "PmTxGIYIlIpi"
      },
      "execution_count": 37,
      "outputs": []
    },
    {
      "cell_type": "code",
      "source": [
        "l_a = tf.constant(l_a)\n",
        "l_b = tf.constant(l_b)\n",
        "l_c = tf.constant(l_c)\n",
        "A = tf.stack([l_a,l_b,l_c])\n",
        "A"
      ],
      "metadata": {
        "id": "5zZKKFnIlN77",
        "colab": {
          "base_uri": "https://localhost:8080/"
        },
        "outputId": "e1ec5d71-8de4-428a-e4f6-88440c68bd21"
      },
      "execution_count": 38,
      "outputs": [
        {
          "output_type": "execute_result",
          "data": {
            "text/plain": [
              "<tf.Tensor: shape=(3, 2), dtype=int32, numpy=\n",
              "array([[ 1,  0],\n",
              "       [-1,  2],\n",
              "       [ 1,  0]], dtype=int32)>"
            ]
          },
          "metadata": {},
          "execution_count": 38
        }
      ]
    },
    {
      "cell_type": "code",
      "source": [
        "l_B = ([10,20],[30,40])\n",
        "l_C = ([10,20],[20,40])\n",
        "l_E = ([30,10],[10,10])"
      ],
      "metadata": {
        "id": "lBmzM2X5mAmp"
      },
      "execution_count": 27,
      "outputs": []
    },
    {
      "cell_type": "code",
      "source": [
        "B = tf.constant(l_B)\n",
        "C = tf.constant(l_C)\n",
        "E = tf.constant(l_E)\n",
        "B,C,E"
      ],
      "metadata": {
        "id": "M0EqTI4wmNkK",
        "colab": {
          "base_uri": "https://localhost:8080/"
        },
        "outputId": "8b8eae21-67d7-46d1-9f51-b9b661753b4c"
      },
      "execution_count": 35,
      "outputs": [
        {
          "output_type": "execute_result",
          "data": {
            "text/plain": [
              "(<tf.Tensor: shape=(2, 2), dtype=int32, numpy=\n",
              " array([[10, 20],\n",
              "        [30, 40]], dtype=int32)>,\n",
              " <tf.Tensor: shape=(2, 2), dtype=int32, numpy=\n",
              " array([[10, 20],\n",
              "        [20, 40]], dtype=int32)>,\n",
              " <tf.Tensor: shape=(2, 2), dtype=int32, numpy=\n",
              " array([[30, 10],\n",
              "        [10, 10]], dtype=int32)>)"
            ]
          },
          "metadata": {},
          "execution_count": 35
        }
      ]
    },
    {
      "cell_type": "code",
      "source": [
        "m_BCE = tf.stack([B,C,E])\n",
        "m_BCE"
      ],
      "metadata": {
        "id": "3jlYN190maeZ",
        "colab": {
          "base_uri": "https://localhost:8080/"
        },
        "outputId": "9fa7d8e7-3054-45da-c181-d729a0a213fd"
      },
      "execution_count": 36,
      "outputs": [
        {
          "output_type": "execute_result",
          "data": {
            "text/plain": [
              "<tf.Tensor: shape=(3, 2, 2), dtype=int32, numpy=\n",
              "array([[[10, 20],\n",
              "        [30, 40]],\n",
              "\n",
              "       [[10, 20],\n",
              "        [20, 40]],\n",
              "\n",
              "       [[30, 10],\n",
              "        [10, 10]]], dtype=int32)>"
            ]
          },
          "metadata": {},
          "execution_count": 36
        }
      ]
    },
    {
      "cell_type": "markdown",
      "source": [
        "고차원 텐서\n",
        "1. 1차원배열 1Xm, n개 정의 2차원 배열 n X m 정의\n",
        "2. tf.constant([1], [2],,, [i]):텐서 변환 \n",
        "3. tf.stack([1], [2],,, [i])\n",
        "4. shape(l, n, m)"
      ],
      "metadata": {
        "id": "5pcHmnpOrN4c"
      }
    },
    {
      "cell_type": "code",
      "source": [
        "ㅣ_c1 = [1,2,3,4]\n",
        "ㅣ_c2 = [3,4,2,5]\n",
        "ㅣ_c3 = [2,3,4,5]\n",
        "ㅣ_c4 = [6,5,7,3]\n",
        "ㅣ_c5 = [1,1,1,1]\n",
        "ㅣ_c6 = [8,1,0,6]"
      ],
      "metadata": {
        "id": "Xdb2-qHFrQRd"
      },
      "execution_count": 39,
      "outputs": []
    },
    {
      "cell_type": "code",
      "source": [
        "c1 = tf.constant(ㅣ_c1)\n",
        "c2 = tf.constant(ㅣ_c2)\n",
        "c3 = tf.constant(ㅣ_c3)\n",
        "c4 = tf.constant(ㅣ_c4)\n",
        "c5 = tf.constant(ㅣ_c5)\n",
        "c6 = tf.constant(ㅣ_c6)"
      ],
      "metadata": {
        "id": "ijFpEhBvr6Pc"
      },
      "execution_count": 47,
      "outputs": []
    },
    {
      "cell_type": "code",
      "source": [
        "t_A = tf.stack([c1,c2,c3,c4,c5,c6])\n",
        "t_A"
      ],
      "metadata": {
        "id": "Ji4xyQ2ysvwr",
        "colab": {
          "base_uri": "https://localhost:8080/"
        },
        "outputId": "1bbb3d06-4a1b-40c4-e5ce-37aa7116077c"
      },
      "execution_count": 48,
      "outputs": [
        {
          "output_type": "execute_result",
          "data": {
            "text/plain": [
              "<tf.Tensor: shape=(6, 4), dtype=int32, numpy=\n",
              "array([[1, 2, 3, 4],\n",
              "       [3, 4, 2, 5],\n",
              "       [2, 3, 4, 5],\n",
              "       [6, 5, 7, 3],\n",
              "       [1, 1, 1, 1],\n",
              "       [8, 1, 0, 6]], dtype=int32)>"
            ]
          },
          "metadata": {},
          "execution_count": 48
        }
      ]
    },
    {
      "cell_type": "code",
      "source": [
        "t_B = tf.stack([c1,c2],[c3,c4],[c5,c6])\n",
        "t_B"
      ],
      "metadata": {
        "id": "RkweGBU7tOdT",
        "colab": {
          "base_uri": "https://localhost:8080/",
          "height": 349
        },
        "outputId": "ff6593f5-afcd-411b-efe6-673fac83b11d"
      },
      "execution_count": 129,
      "outputs": [
        {
          "output_type": "error",
          "ename": "TypeError",
          "evalue": "ignored",
          "traceback": [
            "\u001b[0;31m---------------------------------------------------------------------------\u001b[0m",
            "\u001b[0;31mTypeError\u001b[0m                                 Traceback (most recent call last)",
            "\u001b[0;32m<ipython-input-129-45f4500b4aee>\u001b[0m in \u001b[0;36m<cell line: 1>\u001b[0;34m()\u001b[0m\n\u001b[0;32m----> 1\u001b[0;31m \u001b[0mt_B\u001b[0m \u001b[0;34m=\u001b[0m \u001b[0mtf\u001b[0m\u001b[0;34m.\u001b[0m\u001b[0mstack\u001b[0m\u001b[0;34m(\u001b[0m\u001b[0;34m[\u001b[0m\u001b[0mc1\u001b[0m\u001b[0;34m,\u001b[0m\u001b[0mc2\u001b[0m\u001b[0;34m]\u001b[0m\u001b[0;34m,\u001b[0m\u001b[0;34m[\u001b[0m\u001b[0mc3\u001b[0m\u001b[0;34m,\u001b[0m\u001b[0mc4\u001b[0m\u001b[0;34m]\u001b[0m\u001b[0;34m,\u001b[0m\u001b[0;34m[\u001b[0m\u001b[0mc5\u001b[0m\u001b[0;34m,\u001b[0m\u001b[0mc6\u001b[0m\u001b[0;34m]\u001b[0m\u001b[0;34m)\u001b[0m\u001b[0;34m\u001b[0m\u001b[0;34m\u001b[0m\u001b[0m\n\u001b[0m\u001b[1;32m      2\u001b[0m \u001b[0mt_B\u001b[0m\u001b[0;34m\u001b[0m\u001b[0;34m\u001b[0m\u001b[0m\n",
            "\u001b[0;32m/usr/local/lib/python3.9/dist-packages/tensorflow/python/util/traceback_utils.py\u001b[0m in \u001b[0;36merror_handler\u001b[0;34m(*args, **kwargs)\u001b[0m\n\u001b[1;32m    151\u001b[0m     \u001b[0;32mexcept\u001b[0m \u001b[0mException\u001b[0m \u001b[0;32mas\u001b[0m \u001b[0me\u001b[0m\u001b[0;34m:\u001b[0m\u001b[0;34m\u001b[0m\u001b[0;34m\u001b[0m\u001b[0m\n\u001b[1;32m    152\u001b[0m       \u001b[0mfiltered_tb\u001b[0m \u001b[0;34m=\u001b[0m \u001b[0m_process_traceback_frames\u001b[0m\u001b[0;34m(\u001b[0m\u001b[0me\u001b[0m\u001b[0;34m.\u001b[0m\u001b[0m__traceback__\u001b[0m\u001b[0;34m)\u001b[0m\u001b[0;34m\u001b[0m\u001b[0;34m\u001b[0m\u001b[0m\n\u001b[0;32m--> 153\u001b[0;31m       \u001b[0;32mraise\u001b[0m \u001b[0me\u001b[0m\u001b[0;34m.\u001b[0m\u001b[0mwith_traceback\u001b[0m\u001b[0;34m(\u001b[0m\u001b[0mfiltered_tb\u001b[0m\u001b[0;34m)\u001b[0m \u001b[0;32mfrom\u001b[0m \u001b[0;32mNone\u001b[0m\u001b[0;34m\u001b[0m\u001b[0;34m\u001b[0m\u001b[0m\n\u001b[0m\u001b[1;32m    154\u001b[0m     \u001b[0;32mfinally\u001b[0m\u001b[0;34m:\u001b[0m\u001b[0;34m\u001b[0m\u001b[0;34m\u001b[0m\u001b[0m\n\u001b[1;32m    155\u001b[0m       \u001b[0;32mdel\u001b[0m \u001b[0mfiltered_tb\u001b[0m\u001b[0;34m\u001b[0m\u001b[0;34m\u001b[0m\u001b[0m\n",
            "\u001b[0;32m/usr/local/lib/python3.9/dist-packages/tensorflow/python/ops/array_ops.py\u001b[0m in \u001b[0;36mstack\u001b[0;34m(values, axis, name)\u001b[0m\n\u001b[1;32m   1489\u001b[0m   \u001b[0;32mif\u001b[0m \u001b[0mvalue_shape\u001b[0m \u001b[0;32mis\u001b[0m \u001b[0;32mnot\u001b[0m \u001b[0;32mNone\u001b[0m\u001b[0;34m:\u001b[0m\u001b[0;34m\u001b[0m\u001b[0;34m\u001b[0m\u001b[0m\n\u001b[1;32m   1490\u001b[0m     \u001b[0mexpanded_num_dims\u001b[0m \u001b[0;34m=\u001b[0m \u001b[0mlen\u001b[0m\u001b[0;34m(\u001b[0m\u001b[0mvalue_shape\u001b[0m\u001b[0;34m)\u001b[0m \u001b[0;34m+\u001b[0m \u001b[0;36m1\u001b[0m\u001b[0;34m\u001b[0m\u001b[0;34m\u001b[0m\u001b[0m\n\u001b[0;32m-> 1491\u001b[0;31m     \u001b[0;32mif\u001b[0m \u001b[0maxis\u001b[0m \u001b[0;34m<\u001b[0m \u001b[0;34m-\u001b[0m\u001b[0mexpanded_num_dims\u001b[0m \u001b[0;32mor\u001b[0m \u001b[0maxis\u001b[0m \u001b[0;34m>=\u001b[0m \u001b[0mexpanded_num_dims\u001b[0m\u001b[0;34m:\u001b[0m\u001b[0;34m\u001b[0m\u001b[0;34m\u001b[0m\u001b[0m\n\u001b[0m\u001b[1;32m   1492\u001b[0m       raise ValueError(f\"Argument `axis` = {axis} not in range \"\n\u001b[1;32m   1493\u001b[0m                        f\"[{-expanded_num_dims}, {expanded_num_dims})\")\n",
            "\u001b[0;31mTypeError\u001b[0m: '<' not supported between instances of 'list' and 'int'"
          ]
        }
      ]
    },
    {
      "cell_type": "markdown",
      "source": [
        "##인덱싱"
      ],
      "metadata": {
        "id": "BviBiDUpMEt4"
      }
    },
    {
      "cell_type": "code",
      "source": [
        "x = range(1,10)\n",
        "x = list(x)\n",
        "x1 = tf.constant(x)\n",
        "x1"
      ],
      "metadata": {
        "id": "C_iDZd15w-z7",
        "colab": {
          "base_uri": "https://localhost:8080/"
        },
        "outputId": "d2d8db48-3cbe-4f02-940c-9483c1bbecee"
      },
      "execution_count": 50,
      "outputs": [
        {
          "output_type": "execute_result",
          "data": {
            "text/plain": [
              "<tf.Tensor: shape=(9,), dtype=int32, numpy=array([1, 2, 3, 4, 5, 6, 7, 8, 9], dtype=int32)>"
            ]
          },
          "metadata": {},
          "execution_count": 50
        }
      ]
    },
    {
      "cell_type": "code",
      "source": [
        "x2 = tf.reshape(x1,[3,-1]) ##[3,3]==[3,-1]\n",
        "x2"
      ],
      "metadata": {
        "colab": {
          "base_uri": "https://localhost:8080/"
        },
        "id": "VNl_aXarLZy7",
        "outputId": "5c068e60-36a1-4fca-e5e1-443c7adf0359"
      },
      "execution_count": 51,
      "outputs": [
        {
          "output_type": "execute_result",
          "data": {
            "text/plain": [
              "<tf.Tensor: shape=(3, 3), dtype=int32, numpy=\n",
              "array([[1, 2, 3],\n",
              "       [4, 5, 6],\n",
              "       [7, 8, 9]], dtype=int32)>"
            ]
          },
          "metadata": {},
          "execution_count": 51
        }
      ]
    },
    {
      "cell_type": "code",
      "source": [
        "#1행출력\n",
        "x2[:1]"
      ],
      "metadata": {
        "colab": {
          "base_uri": "https://localhost:8080/"
        },
        "id": "lxWTmCCrLaC6",
        "outputId": "4fa2e61c-7e6f-47a4-cc91-978b47d4e43b"
      },
      "execution_count": 53,
      "outputs": [
        {
          "output_type": "execute_result",
          "data": {
            "text/plain": [
              "<tf.Tensor: shape=(1, 3), dtype=int32, numpy=array([[1, 2, 3]], dtype=int32)>"
            ]
          },
          "metadata": {},
          "execution_count": 53
        }
      ]
    },
    {
      "cell_type": "code",
      "source": [
        "##2행 출력\n",
        "x2[:2]"
      ],
      "metadata": {
        "colab": {
          "base_uri": "https://localhost:8080/"
        },
        "id": "R6tjwcgPQDsi",
        "outputId": "54ea1197-84ab-4a44-c2c3-7c26209a4502"
      },
      "execution_count": 54,
      "outputs": [
        {
          "output_type": "execute_result",
          "data": {
            "text/plain": [
              "<tf.Tensor: shape=(2, 3), dtype=int32, numpy=\n",
              "array([[1, 2, 3],\n",
              "       [4, 5, 6]], dtype=int32)>"
            ]
          },
          "metadata": {},
          "execution_count": 54
        }
      ]
    },
    {
      "cell_type": "code",
      "source": [
        "##1열 \n",
        "x2[:,-1:] ##==[:,2:3]"
      ],
      "metadata": {
        "colab": {
          "base_uri": "https://localhost:8080/"
        },
        "id": "YUkKXTXVQG6B",
        "outputId": "84955990-1dd3-4357-eda0-899b7c656e6d"
      },
      "execution_count": 85,
      "outputs": [
        {
          "output_type": "execute_result",
          "data": {
            "text/plain": [
              "<tf.Tensor: shape=(3, 1), dtype=int32, numpy=\n",
              "array([[3],\n",
              "       [6],\n",
              "       [9]], dtype=int32)>"
            ]
          },
          "metadata": {},
          "execution_count": 85
        }
      ]
    },
    {
      "cell_type": "code",
      "source": [
        "x2[:2,:3]"
      ],
      "metadata": {
        "colab": {
          "base_uri": "https://localhost:8080/"
        },
        "id": "TA7n_x9OQJO5",
        "outputId": "162c252a-2f60-4974-9ead-ce52a0ffd6a8"
      },
      "execution_count": 86,
      "outputs": [
        {
          "output_type": "execute_result",
          "data": {
            "text/plain": [
              "<tf.Tensor: shape=(2, 3), dtype=int32, numpy=\n",
              "array([[1, 2, 3],\n",
              "       [4, 5, 6]], dtype=int32)>"
            ]
          },
          "metadata": {},
          "execution_count": 86
        }
      ]
    },
    {
      "cell_type": "code",
      "source": [
        "t7 = tf.constant(range(0,24))\n",
        "t7"
      ],
      "metadata": {
        "colab": {
          "base_uri": "https://localhost:8080/"
        },
        "id": "-WGKmYuOQRp8",
        "outputId": "a9381699-a99c-432b-db86-dae34743eec4"
      },
      "execution_count": 58,
      "outputs": [
        {
          "output_type": "execute_result",
          "data": {
            "text/plain": [
              "<tf.Tensor: shape=(24,), dtype=int32, numpy=\n",
              "array([ 0,  1,  2,  3,  4,  5,  6,  7,  8,  9, 10, 11, 12, 13, 14, 15, 16,\n",
              "       17, 18, 19, 20, 21, 22, 23], dtype=int32)>"
            ]
          },
          "metadata": {},
          "execution_count": 58
        }
      ]
    },
    {
      "cell_type": "code",
      "source": [
        "r2_t7 = tf.reshape(t7,[-1,4])\n",
        "r2_t7\n"
      ],
      "metadata": {
        "colab": {
          "base_uri": "https://localhost:8080/"
        },
        "id": "_ousFEiJQWQR",
        "outputId": "cbfa04be-6345-462d-b4eb-9c713f33d324"
      },
      "execution_count": 61,
      "outputs": [
        {
          "output_type": "execute_result",
          "data": {
            "text/plain": [
              "<tf.Tensor: shape=(6, 4), dtype=int32, numpy=\n",
              "array([[ 0,  1,  2,  3],\n",
              "       [ 4,  5,  6,  7],\n",
              "       [ 8,  9, 10, 11],\n",
              "       [12, 13, 14, 15],\n",
              "       [16, 17, 18, 19],\n",
              "       [20, 21, 22, 23]], dtype=int32)>"
            ]
          },
          "metadata": {},
          "execution_count": 61
        }
      ]
    },
    {
      "cell_type": "code",
      "source": [
        "r4_t7 = tf.reshape(r2_t7,[-1,3,4])\n",
        "r4_t7"
      ],
      "metadata": {
        "colab": {
          "base_uri": "https://localhost:8080/"
        },
        "id": "94Al3hfoLavA",
        "outputId": "8dfc3487-0731-46a9-f271-14731fcf7b60"
      },
      "execution_count": 87,
      "outputs": [
        {
          "output_type": "execute_result",
          "data": {
            "text/plain": [
              "<tf.Tensor: shape=(2, 3, 4), dtype=int32, numpy=\n",
              "array([[[ 0,  1,  2,  3],\n",
              "        [ 4,  5,  6,  7],\n",
              "        [ 8,  9, 10, 11]],\n",
              "\n",
              "       [[12, 13, 14, 15],\n",
              "        [16, 17, 18, 19],\n",
              "        [20, 21, 22, 23]]], dtype=int32)>"
            ]
          },
          "metadata": {},
          "execution_count": 87
        }
      ]
    },
    {
      "cell_type": "code",
      "source": [
        "r5_t7 = tf.reshape(r2_t7,[-1,2,2,2])\n",
        "r5_t7"
      ],
      "metadata": {
        "colab": {
          "base_uri": "https://localhost:8080/"
        },
        "id": "GCprulqqQeq1",
        "outputId": "041c4d44-20f6-4ee9-ea63-794048be1cb6"
      },
      "execution_count": 88,
      "outputs": [
        {
          "output_type": "execute_result",
          "data": {
            "text/plain": [
              "<tf.Tensor: shape=(3, 2, 2, 2), dtype=int32, numpy=\n",
              "array([[[[ 0,  1],\n",
              "         [ 2,  3]],\n",
              "\n",
              "        [[ 4,  5],\n",
              "         [ 6,  7]]],\n",
              "\n",
              "\n",
              "       [[[ 8,  9],\n",
              "         [10, 11]],\n",
              "\n",
              "        [[12, 13],\n",
              "         [14, 15]]],\n",
              "\n",
              "\n",
              "       [[[16, 17],\n",
              "         [18, 19]],\n",
              "\n",
              "        [[20, 21],\n",
              "         [22, 23]]]], dtype=int32)>"
            ]
          },
          "metadata": {},
          "execution_count": 88
        }
      ]
    },
    {
      "cell_type": "markdown",
      "source": [
        "##자동미분"
      ],
      "metadata": {
        "id": "U2JwTeJqLjru"
      }
    },
    {
      "cell_type": "code",
      "source": [
        "## y = x^2 의 미분값 구하기\n",
        "x = tf.Variable(2.0)\n",
        "\n",
        "with tf.GradientTape() as tape:\n",
        "  y = x ** 2  \n",
        "dy_dx = tape.gradient(y,x)\n",
        "dy_dx.numpy()"
      ],
      "metadata": {
        "colab": {
          "base_uri": "https://localhost:8080/"
        },
        "id": "kZ-3UVtILas4",
        "outputId": "4e9b53f5-c1b1-4662-d450-d3b1fb13b212"
      },
      "execution_count": 95,
      "outputs": [
        {
          "output_type": "execute_result",
          "data": {
            "text/plain": [
              "4.0"
            ]
          },
          "metadata": {},
          "execution_count": 95
        }
      ]
    },
    {
      "cell_type": "markdown",
      "source": [
        "데이터 셋 생성성"
      ],
      "metadata": {
        "id": "r-94lDkgTWRX"
      }
    },
    {
      "cell_type": "code",
      "source": [
        " g = tf.random.Generator.from_seed(2020)\n",
        " x= g.normal(shape=(10,))\n",
        " y = 3*x - 2"
      ],
      "metadata": {
        "id": "osiiAt53TuZv"
      },
      "execution_count": 126,
      "outputs": []
    },
    {
      "cell_type": "code",
      "source": [
        "x.numpy()"
      ],
      "metadata": {
        "colab": {
          "base_uri": "https://localhost:8080/"
        },
        "id": "U7gST0W6T78w",
        "outputId": "3b3d70d9-b36a-4e17-88e1-c0975342855f"
      },
      "execution_count": 99,
      "outputs": [
        {
          "output_type": "execute_result",
          "data": {
            "text/plain": [
              "array([-0.20943771,  1.2746525 ,  1.213214  , -0.17576952,  1.876984  ,\n",
              "        0.16379918,  1.082245  ,  0.6199966 , -0.44402212,  1.3048344 ],\n",
              "      dtype=float32)"
            ]
          },
          "metadata": {},
          "execution_count": 99
        }
      ]
    },
    {
      "cell_type": "code",
      "source": [
        "y.numpy()"
      ],
      "metadata": {
        "colab": {
          "base_uri": "https://localhost:8080/"
        },
        "id": "txRC9ugcUDho",
        "outputId": "f1fb5e87-0fff-4ea0-ad68-fcb4d469d20e"
      },
      "execution_count": 100,
      "outputs": [
        {
          "output_type": "execute_result",
          "data": {
            "text/plain": [
              "array([-2.628313  ,  1.8239574 ,  1.6396422 , -2.5273085 ,  3.630952  ,\n",
              "       -1.5086024 ,  1.2467351 , -0.14001012, -3.3320663 ,  1.9145031 ],\n",
              "      dtype=float32)"
            ]
          },
          "metadata": {},
          "execution_count": 100
        }
      ]
    },
    {
      "cell_type": "code",
      "source": [
        "##reduce_mean()\n",
        "m2 = tf.constant([[1.,1.],[2.,2.]])\n",
        "m2"
      ],
      "metadata": {
        "colab": {
          "base_uri": "https://localhost:8080/"
        },
        "id": "zHWYWL4LLaqt",
        "outputId": "87d137b1-17c0-4ab9-f679-71cf5db4c87c"
      },
      "execution_count": 110,
      "outputs": [
        {
          "output_type": "execute_result",
          "data": {
            "text/plain": [
              "<tf.Tensor: shape=(2, 2), dtype=float32, numpy=\n",
              "array([[1., 1.],\n",
              "       [2., 2.]], dtype=float32)>"
            ]
          },
          "metadata": {},
          "execution_count": 110
        }
      ]
    },
    {
      "cell_type": "code",
      "source": [
        "mean2 = tf.reduce_mean(m2)\n",
        "mean2.numpy()"
      ],
      "metadata": {
        "colab": {
          "base_uri": "https://localhost:8080/"
        },
        "id": "AZMNm06QLaoa",
        "outputId": "060272b8-1602-4dd9-c70f-4e3c80e5f941"
      },
      "execution_count": 111,
      "outputs": [
        {
          "output_type": "execute_result",
          "data": {
            "text/plain": [
              "1.5"
            ]
          },
          "metadata": {},
          "execution_count": 111
        }
      ]
    },
    {
      "cell_type": "code",
      "source": [
        "##lose함수 정의하기\n",
        "def cal_mse(x, y, a, b):\n",
        "    y_pred = a*x +b\n",
        "    squared_error = (y_pred - y) ** 2\n",
        "    mean_squared_error = tf.reduce_mean(squared_error)\n",
        "\n",
        "    return mean_squared_error"
      ],
      "metadata": {
        "id": "GI8pEeTbLafy"
      },
      "execution_count": 112,
      "outputs": []
    },
    {
      "cell_type": "code",
      "source": [
        "a = tf.Variable(0.0)\n",
        "b = tf.Variable(0.0)\n",
        "\n",
        "EPOCHS = 300\n",
        "\n",
        "for epoch in range(1, EPOCHS+1):\n",
        "    with tf.GradientTape() as tape:\n",
        "        mse = cal_mse(x, y, a, b)\n",
        "    if mse < 0.00001:\n",
        "     break\n",
        "    \n",
        "    grade = tape.gradient(mse, {'a':a, 'b':b})\n",
        "    d_a, d_b = grade['a'], grade['b']\n",
        "    a.assign_sub(d_a * 0.05)## a = a - d_a*0.05(학습률)\n",
        "    b.assign_sub(d_b * 0.05)## b = b - d_b*0.05(학습률)\n",
        "\n",
        "    if epoch % 20 == 0:\n",
        "     print(\"EPOCH %d - MSE : %.4f - a: %.2f - b : %.2f\"%(epoch, mse, a, b))"
      ],
      "metadata": {
        "colab": {
          "base_uri": "https://localhost:8080/"
        },
        "id": "ZtI_PABOLadj",
        "outputId": "a2810fa5-f46b-4f4f-d59e-ec46df83fbe1"
      },
      "execution_count": 113,
      "outputs": [
        {
          "output_type": "stream",
          "name": "stdout",
          "text": [
            "EPOCH 20 - MSE : 1.1415 - a: 1.74 - b : -0.75\n",
            "EPOCH 40 - MSE : 0.2881 - a: 2.37 - b : -1.37\n",
            "EPOCH 60 - MSE : 0.0728 - a: 2.69 - b : -1.68\n",
            "EPOCH 80 - MSE : 0.0184 - a: 2.84 - b : -1.84\n",
            "EPOCH 100 - MSE : 0.0046 - a: 2.92 - b : -1.92\n",
            "EPOCH 120 - MSE : 0.0012 - a: 2.96 - b : -1.96\n",
            "EPOCH 140 - MSE : 0.0003 - a: 2.98 - b : -1.98\n",
            "EPOCH 160 - MSE : 0.0001 - a: 2.99 - b : -1.99\n",
            "EPOCH 180 - MSE : 0.0000 - a: 2.99 - b : -1.99\n"
          ]
        }
      ]
    },
    {
      "cell_type": "code",
      "source": [
        "y_pred = 3 * x -2\n",
        "plt.scatter(x,y)\n",
        "plt.plot(x,y_pred, color = 'r')\n",
        "plt.show()"
      ],
      "metadata": {
        "colab": {
          "base_uri": "https://localhost:8080/",
          "height": 430
        },
        "id": "cahTfAiKLabW",
        "outputId": "f66674b8-30cd-438a-b78b-561e4c96bbb6"
      },
      "execution_count": 130,
      "outputs": [
        {
          "output_type": "display_data",
          "data": {
            "text/plain": [
              "<Figure size 640x480 with 1 Axes>"
            ],
            "image/png": "[encoded data removed]"
          },
          "metadata": {}
        }
      ]
    },
    {
      "cell_type": "code",
      "source": [
        "##데이터셋 생성(노이즈 첨가) \n",
        "g = tf.random.Generator.from_seed(2020)\n",
        "x1 = g.normal(shape=(10,))\n",
        "noise = np.random.normal(-abs(noise),abs(noise),size = (10,))\n",
        "y = 3 * x - 2 + noise "
      ],
      "metadata": {
        "id": "NF3aR2WVLaYA"
      },
      "execution_count": 148,
      "outputs": []
    },
    {
      "cell_type": "code",
      "source": [
        "a = tf.Variable(0.0)\n",
        "b = tf.Variable(0.0)\n",
        "\n",
        "HS = 1000\n",
        "\n",
        "for epoch in range(1, EPOCHS+1):\n",
        "    with tf.GradientTape() as tape:\n",
        "        mse = cal_mse(x1, y, a, b)\n",
        "    if mse < 0.00001:\n",
        "     break\n",
        "    \n",
        "    grade = tape.gradient(mse, {'a':a, 'b':b})\n",
        "    d_a, d_b = grade['a'], grade['b']\n",
        "    a.assign_sub(d_a * 0.05)## a = a - d_a*0.05(학습률)\n",
        "    b.assign_sub(d_b * 0.05)## b = b - d_b*0.05(학습률)\n",
        "\n",
        "    if epoch % 20 == 0:\n",
        "     print(\"EPOCH %d - MSE : %.4f - a: %.2f - b : %.2f\"%(epoch, mse, a, b))"
      ],
      "metadata": {
        "colab": {
          "base_uri": "https://localhost:8080/"
        },
        "id": "U8pKm8BKLaTm",
        "outputId": "f3007c83-86ad-419c-ffbe-80eb0eded01f"
      },
      "execution_count": 149,
      "outputs": [
        {
          "output_type": "stream",
          "name": "stdout",
          "text": [
            "EPOCH 20 - MSE : 4.2524 - a: 0.27 - b : -1.29\n",
            "EPOCH 40 - MSE : 3.9087 - a: 0.65 - b : -1.71\n",
            "EPOCH 60 - MSE : 3.8221 - a: 0.85 - b : -1.91\n",
            "EPOCH 80 - MSE : 3.8002 - a: 0.95 - b : -2.01\n",
            "EPOCH 100 - MSE : 3.7947 - a: 1.00 - b : -2.06\n",
            "EPOCH 120 - MSE : 3.7933 - a: 1.03 - b : -2.08\n",
            "EPOCH 140 - MSE : 3.7929 - a: 1.04 - b : -2.10\n",
            "EPOCH 160 - MSE : 3.7929 - a: 1.04 - b : -2.10\n",
            "EPOCH 180 - MSE : 3.7928 - a: 1.05 - b : -2.11\n",
            "EPOCH 200 - MSE : 3.7928 - a: 1.05 - b : -2.11\n",
            "EPOCH 220 - MSE : 3.7928 - a: 1.05 - b : -2.11\n",
            "EPOCH 240 - MSE : 3.7928 - a: 1.05 - b : -2.11\n",
            "EPOCH 260 - MSE : 3.7928 - a: 1.05 - b : -2.11\n",
            "EPOCH 280 - MSE : 3.7928 - a: 1.05 - b : -2.11\n",
            "EPOCH 300 - MSE : 3.7928 - a: 1.05 - b : -2.11\n",
            "EPOCH 320 - MSE : 3.7928 - a: 1.05 - b : -2.11\n",
            "EPOCH 340 - MSE : 3.7928 - a: 1.05 - b : -2.11\n",
            "EPOCH 360 - MSE : 3.7928 - a: 1.05 - b : -2.11\n",
            "EPOCH 380 - MSE : 3.7928 - a: 1.05 - b : -2.11\n",
            "EPOCH 400 - MSE : 3.7928 - a: 1.05 - b : -2.11\n",
            "EPOCH 420 - MSE : 3.7928 - a: 1.05 - b : -2.11\n",
            "EPOCH 440 - MSE : 3.7928 - a: 1.05 - b : -2.11\n",
            "EPOCH 460 - MSE : 3.7928 - a: 1.05 - b : -2.11\n",
            "EPOCH 480 - MSE : 3.7928 - a: 1.05 - b : -2.11\n",
            "EPOCH 500 - MSE : 3.7928 - a: 1.05 - b : -2.11\n",
            "EPOCH 520 - MSE : 3.7928 - a: 1.05 - b : -2.11\n",
            "EPOCH 540 - MSE : 3.7928 - a: 1.05 - b : -2.11\n",
            "EPOCH 560 - MSE : 3.7928 - a: 1.05 - b : -2.11\n",
            "EPOCH 580 - MSE : 3.7928 - a: 1.05 - b : -2.11\n",
            "EPOCH 600 - MSE : 3.7928 - a: 1.05 - b : -2.11\n",
            "EPOCH 620 - MSE : 3.7928 - a: 1.05 - b : -2.11\n",
            "EPOCH 640 - MSE : 3.7928 - a: 1.05 - b : -2.11\n",
            "EPOCH 660 - MSE : 3.7928 - a: 1.05 - b : -2.11\n",
            "EPOCH 680 - MSE : 3.7928 - a: 1.05 - b : -2.11\n",
            "EPOCH 700 - MSE : 3.7928 - a: 1.05 - b : -2.11\n",
            "EPOCH 720 - MSE : 3.7928 - a: 1.05 - b : -2.11\n",
            "EPOCH 740 - MSE : 3.7928 - a: 1.05 - b : -2.11\n",
            "EPOCH 760 - MSE : 3.7928 - a: 1.05 - b : -2.11\n",
            "EPOCH 780 - MSE : 3.7928 - a: 1.05 - b : -2.11\n",
            "EPOCH 800 - MSE : 3.7928 - a: 1.05 - b : -2.11\n",
            "EPOCH 820 - MSE : 3.7928 - a: 1.05 - b : -2.11\n",
            "EPOCH 840 - MSE : 3.7928 - a: 1.05 - b : -2.11\n",
            "EPOCH 860 - MSE : 3.7928 - a: 1.05 - b : -2.11\n",
            "EPOCH 880 - MSE : 3.7928 - a: 1.05 - b : -2.11\n",
            "EPOCH 900 - MSE : 3.7928 - a: 1.05 - b : -2.11\n",
            "EPOCH 920 - MSE : 3.7928 - a: 1.05 - b : -2.11\n",
            "EPOCH 940 - MSE : 3.7928 - a: 1.05 - b : -2.11\n",
            "EPOCH 960 - MSE : 3.7928 - a: 1.05 - b : -2.11\n",
            "EPOCH 980 - MSE : 3.7928 - a: 1.05 - b : -2.11\n",
            "EPOCH 1000 - MSE : 3.7928 - a: 1.05 - b : -2.11\n"
          ]
        }
      ]
    },
    {
      "cell_type": "code",
      "source": [
        "y_pred = 3.02 * x1 -2.26\n",
        "plt.scatter(x1,y)\n",
        "plt.plot(x1, y_pred, color = 'r')\n",
        "plt.show()"
      ],
      "metadata": {
        "colab": {
          "base_uri": "https://localhost:8080/",
          "height": 430
        },
        "id": "iYaWR0NxL42m",
        "outputId": "eca922aa-ab5b-49bf-9092-501d64202414"
      },
      "execution_count": 150,
      "outputs": [
        {
          "output_type": "display_data",
          "data": {
            "text/plain": [
              "<Figure size 640x480 with 1 Axes>"
            ],
            "image/png": "[encoded data removed]"
          },
          "metadata": {}
        }
      ]
    },
    {
      "cell_type": "code",
      "source": [],
      "metadata": {
        "id": "RVDxXVNrWNVC"
      },
      "execution_count": null,
      "outputs": []
    },
    {
      "cell_type": "code",
      "source": [],
      "metadata": {
        "id": "wwaUV2z9WNSl"
      },
      "execution_count": null,
      "outputs": []
    }
  ]
}