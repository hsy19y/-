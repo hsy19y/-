{
  "nbformat": 4,
  "nbformat_minor": 0,
  "metadata": {
    "colab": {
      "private_outputs": true,
      "provenance": [],
      "authorship_tag": "ABX9TyPsi3JxQPKOrnX08GQ3sDUe",
      "include_colab_link": true
    },
    "kernelspec": {
      "name": "python3",
      "display_name": "Python 3"
    },
    "language_info": {
      "name": "python"
    }
  },
  "cells": [
    {
      "cell_type": "markdown",
      "metadata": {
        "id": "view-in-github",
        "colab_type": "text"
      },
      "source": [
        "<a href=\"https://colab.research.google.com/github/hsy19y/-/blob/main/5%EC%A3%BC%EC%B0%A8_4_03.ipynb\" target=\"_parent\"><img src=\"https://colab.research.google.com/assets/colab-badge.svg\" alt=\"Open In Colab\"/></a>"
      ]
    },
    {
      "cell_type": "code",
      "execution_count": null,
      "metadata": {
        "id": "MsJmIa4cdksW"
      },
      "outputs": [],
      "source": []
    },
    {
      "cell_type": "markdown",
      "source": [],
      "metadata": {
        "id": "SypVdF0id5Sn"
      }
    },
    {
      "cell_type": "code",
      "source": [
        "import tensorflow as tf\n",
        "import numpy as np\n",
        "import matplotlib.pyplot as plt"
      ],
      "metadata": {
        "id": "xu40jwQ5d6Pv"
      },
      "execution_count": null,
      "outputs": []
    },
    {
      "cell_type": "code",
      "source": [
        "a = 1\n",
        "b = 2 \n",
        "c = tf. math.add(a,b)\n",
        "c"
      ],
      "metadata": {
        "id": "5tGuUS5-d6Iv"
      },
      "execution_count": null,
      "outputs": []
    },
    {
      "cell_type": "code",
      "source": [
        "c.numpy()"
      ],
      "metadata": {
        "id": "doPBkGk5d6AX"
      },
      "execution_count": null,
      "outputs": []
    },
    {
      "cell_type": "markdown",
      "source": [
        "스칼라 정의\n",
        "1. "
      ],
      "metadata": {
        "id": "4JFrJv8zf9nZ"
      }
    },
    {
      "cell_type": "code",
      "source": [
        "c1 = tf.constant(1)\n",
        "c2 = tf.constant(2)\n",
        "print(c1,c2)"
      ],
      "metadata": {
        "id": "ReWBGl3kd5mf"
      },
      "execution_count": null,
      "outputs": []
    },
    {
      "cell_type": "code",
      "source": [
        "f1 = tf.cast(c1,tf.float32)\n",
        "f2 = tf.cast(c2,tf.float32)\n",
        "print(f1,f2)"
      ],
      "metadata": {
        "id": "q7za_E4cgSTJ"
      },
      "execution_count": null,
      "outputs": []
    },
    {
      "cell_type": "markdown",
      "source": [
        "1. add()\n",
        "2. subtract()\n",
        "3. multiply()\n",
        "4. dvide()\n",
        "5. mod() : 나머지\n",
        "6. floordv : 몫\n"
      ],
      "metadata": {
        "id": "RnZlxIesgsww"
      }
    },
    {
      "cell_type": "code",
      "source": [
        "add = tf.math.add(c1,c2)\n",
        "add.numpy()"
      ],
      "metadata": {
        "id": "_eYD-Zepgrip"
      },
      "execution_count": null,
      "outputs": []
    },
    {
      "cell_type": "code",
      "source": [
        "sub = tf.math.subtract(c1,c2)\n",
        "sub"
      ],
      "metadata": {
        "id": "eneuuuPdg0IJ"
      },
      "execution_count": null,
      "outputs": []
    },
    {
      "cell_type": "code",
      "source": [
        "multiply = tf.math.multiply(c1,c2)\n",
        "multiply"
      ],
      "metadata": {
        "id": "-jr3Yy7Fhx7J"
      },
      "execution_count": null,
      "outputs": []
    },
    {
      "cell_type": "code",
      "source": [
        "divide = tf.math.divide(c1,c2)\n",
        "divide"
      ],
      "metadata": {
        "id": "sBXChgSVhxxp"
      },
      "execution_count": null,
      "outputs": []
    },
    {
      "cell_type": "code",
      "source": [
        "mod = tf.math.mod(c1,c2)\n",
        "mod"
      ],
      "metadata": {
        "id": "yzvre-qlhxoB"
      },
      "execution_count": null,
      "outputs": []
    },
    {
      "cell_type": "markdown",
      "source": [
        "vector\n",
        "1. 변수명*[] :리스트 생성\n",
        "2. 변수명*tf.constant() : 텐서 변환"
      ],
      "metadata": {
        "id": "4sFmNCoGigUk"
      }
    },
    {
      "cell_type": "code",
      "source": [
        "py_list = [10,20,30]\n",
        "ten_list = tf.constant(py_list, dtype = tf.int32)  \n",
        "ten_list"
      ],
      "metadata": {
        "id": "iD-Ta8hcixup"
      },
      "execution_count": null,
      "outputs": []
    },
    {
      "cell_type": "code",
      "source": [
        "num_arr = np.array([10,10,10])\n",
        "ten_arr = tf.constant(num_arr, dtype = tf.int32)\n",
        "ten_arr"
      ],
      "metadata": {
        "id": "3VFt3FswiyAa"
      },
      "execution_count": null,
      "outputs": []
    },
    {
      "cell_type": "code",
      "source": [
        "A = ten_list + ten_arr\n",
        "S = ten_list - ten_arr\n",
        "M = ten_list * ten_arr\n",
        "D = ten_list / ten_arr\n",
        "MO = ten_list % ten_arr\n",
        "Fd = ten_list // ten_arr"
      ],
      "metadata": {
        "id": "T9MJp9n4jgMq"
      },
      "execution_count": null,
      "outputs": []
    },
    {
      "cell_type": "code",
      "source": [
        "A.numpy()"
      ],
      "metadata": {
        "id": "RtprivXSlIbR"
      },
      "execution_count": null,
      "outputs": []
    },
    {
      "cell_type": "code",
      "source": [
        "D.numpy()"
      ],
      "metadata": {
        "id": "0ThRdt0GN6ys"
      },
      "execution_count": null,
      "outputs": []
    },
    {
      "cell_type": "code",
      "source": [
        "l_a = [1,0]\n",
        "l_b = [-1,2]\n",
        "l_c = [1,0]"
      ],
      "metadata": {
        "id": "PmTxGIYIlIpi"
      },
      "execution_count": null,
      "outputs": []
    },
    {
      "cell_type": "code",
      "source": [
        "l_a = tf.constant(l_a)\n",
        "l_b = tf.constant(l_b)\n",
        "l_c = tf.constant(l_c)\n",
        "A = tf.stack([l_a,l_b,l_c])\n",
        "A"
      ],
      "metadata": {
        "id": "5zZKKFnIlN77"
      },
      "execution_count": null,
      "outputs": []
    },
    {
      "cell_type": "code",
      "source": [
        "l_B = ([10,20],[30,40])\n",
        "l_C = ([10,20],[20,40])\n",
        "l_E = ([30,10],[10,10])"
      ],
      "metadata": {
        "id": "lBmzM2X5mAmp"
      },
      "execution_count": null,
      "outputs": []
    },
    {
      "cell_type": "code",
      "source": [
        "B = tf.constant(l_B)\n",
        "C = tf.constant(l_C)\n",
        "E = tf.constant(l_E)\n",
        "B,C,E"
      ],
      "metadata": {
        "id": "M0EqTI4wmNkK"
      },
      "execution_count": null,
      "outputs": []
    },
    {
      "cell_type": "code",
      "source": [
        "m_BCE = tf.stack([B,C,E])\n",
        "m_BCE"
      ],
      "metadata": {
        "id": "3jlYN190maeZ"
      },
      "execution_count": null,
      "outputs": []
    },
    {
      "cell_type": "markdown",
      "source": [
        "고차원 텐서\n",
        "1. 1차원배열 1Xm, n개 정의 2차원 배열 n X m 정의\n",
        "2. tf.constant([1], [2],,, [i]):텐서 변환 \n",
        "3. tf.stack([1], [2],,, [i])\n",
        "4. shape(l, n, m)"
      ],
      "metadata": {
        "id": "5pcHmnpOrN4c"
      }
    },
    {
      "cell_type": "code",
      "source": [
        "ㅣ_c1 = [1,2,3,4]\n",
        "ㅣ_c2 = [3,4,2,5]\n",
        "ㅣ_c3 = [2,3,4,5]\n",
        "ㅣ_c4 = [6,5,7,3]\n",
        "ㅣ_c5 = [1,1,1,1]\n",
        "ㅣ_c6 = [8,1,0,6]"
      ],
      "metadata": {
        "id": "Xdb2-qHFrQRd"
      },
      "execution_count": null,
      "outputs": []
    },
    {
      "cell_type": "code",
      "source": [
        "c1 = tf.constant(ㅣ_c1)\n",
        "c2 = tf.constant(ㅣ_c2)\n",
        "c3 = tf.constant(ㅣ_c3)\n",
        "c4 = tf.constant(ㅣ_c4)\n",
        "c5 = tf.constant(ㅣ_c5)\n",
        "c6 = tf.constant(ㅣ_c6)"
      ],
      "metadata": {
        "id": "ijFpEhBvr6Pc"
      },
      "execution_count": null,
      "outputs": []
    },
    {
      "cell_type": "code",
      "source": [
        "t_A = tf.stack([c1,c2,c3,c4,c5,c6])\n",
        "t_A"
      ],
      "metadata": {
        "id": "Ji4xyQ2ysvwr"
      },
      "execution_count": null,
      "outputs": []
    },
    {
      "cell_type": "code",
      "source": [
        "t_B = tf.stack([c1,c2],[c3,c4],[c5,c6])\n",
        "t_B"
      ],
      "metadata": {
        "id": "RkweGBU7tOdT"
      },
      "execution_count": null,
      "outputs": []
    },
    {
      "cell_type": "markdown",
      "source": [
        "##인덱싱"
      ],
      "metadata": {
        "id": "BviBiDUpMEt4"
      }
    },
    {
      "cell_type": "code",
      "source": [
        "x = range(1,10)\n",
        "x = list(x)\n",
        "x1 = tf.constant(x)\n",
        "x1"
      ],
      "metadata": {
        "id": "C_iDZd15w-z7"
      },
      "execution_count": null,
      "outputs": []
    },
    {
      "cell_type": "code",
      "source": [
        "x2 = tf.reshape(x1,[3,-1]) ##[3,3]==[3,-1]\n",
        "x2"
      ],
      "metadata": {
        "id": "VNl_aXarLZy7"
      },
      "execution_count": null,
      "outputs": []
    },
    {
      "cell_type": "code",
      "source": [
        "#1행출력\n",
        "x2[:1]"
      ],
      "metadata": {
        "id": "lxWTmCCrLaC6"
      },
      "execution_count": null,
      "outputs": []
    },
    {
      "cell_type": "code",
      "source": [
        "##2행 출력\n",
        "x2[:2]"
      ],
      "metadata": {
        "id": "R6tjwcgPQDsi"
      },
      "execution_count": null,
      "outputs": []
    },
    {
      "cell_type": "code",
      "source": [
        "##1열 \n",
        "x2[:,-1:] ##==[:,2:3]"
      ],
      "metadata": {
        "id": "YUkKXTXVQG6B"
      },
      "execution_count": null,
      "outputs": []
    },
    {
      "cell_type": "code",
      "source": [
        "x2[:2,:3]"
      ],
      "metadata": {
        "id": "TA7n_x9OQJO5"
      },
      "execution_count": null,
      "outputs": []
    },
    {
      "cell_type": "code",
      "source": [
        "t7 = tf.constant(range(0,24))\n",
        "t7"
      ],
      "metadata": {
        "id": "-WGKmYuOQRp8"
      },
      "execution_count": null,
      "outputs": []
    },
    {
      "cell_type": "code",
      "source": [
        "r2_t7 = tf.reshape(t7,[-1,4])\n",
        "r2_t7\n"
      ],
      "metadata": {
        "id": "_ousFEiJQWQR"
      },
      "execution_count": null,
      "outputs": []
    },
    {
      "cell_type": "code",
      "source": [
        "r4_t7 = tf.reshape(r2_t7,[-1,3,4])\n",
        "r4_t7"
      ],
      "metadata": {
        "id": "94Al3hfoLavA"
      },
      "execution_count": null,
      "outputs": []
    },
    {
      "cell_type": "code",
      "source": [
        "r5_t7 = tf.reshape(r2_t7,[-1,2,2,2])\n",
        "r5_t7"
      ],
      "metadata": {
        "id": "GCprulqqQeq1"
      },
      "execution_count": null,
      "outputs": []
    },
    {
      "cell_type": "markdown",
      "source": [
        "##자동미분"
      ],
      "metadata": {
        "id": "U2JwTeJqLjru"
      }
    },
    {
      "cell_type": "code",
      "source": [
        "## y = x^2 의 미분값 구하기\n",
        "x = tf.Variable(2.0)\n",
        "\n",
        "with tf.GradientTape() as tape:\n",
        "  y = x ** 2  \n",
        "dy_dx = tape.gradient(y,x)\n",
        "dy_dx.numpy()"
      ],
      "metadata": {
        "id": "kZ-3UVtILas4"
      },
      "execution_count": null,
      "outputs": []
    },
    {
      "cell_type": "markdown",
      "source": [
        "데이터 셋 생성성"
      ],
      "metadata": {
        "id": "r-94lDkgTWRX"
      }
    },
    {
      "cell_type": "code",
      "source": [
        " g = tf.random.Generator.from_seed(2020)\n",
        " x= g.normal(shape=(10,))\n",
        " y = 3*x - 2"
      ],
      "metadata": {
        "id": "osiiAt53TuZv"
      },
      "execution_count": null,
      "outputs": []
    },
    {
      "cell_type": "code",
      "source": [
        "x.numpy()"
      ],
      "metadata": {
        "id": "U7gST0W6T78w"
      },
      "execution_count": null,
      "outputs": []
    },
    {
      "cell_type": "code",
      "source": [
        "y.numpy()"
      ],
      "metadata": {
        "id": "txRC9ugcUDho"
      },
      "execution_count": null,
      "outputs": []
    },
    {
      "cell_type": "code",
      "source": [
        "##reduce_mean()\n",
        "m2 = tf.constant([[1.,1.],[2.,2.]])\n",
        "m2"
      ],
      "metadata": {
        "id": "zHWYWL4LLaqt"
      },
      "execution_count": null,
      "outputs": []
    },
    {
      "cell_type": "code",
      "source": [
        "mean2 = tf.reduce_mean(m2)\n",
        "mean2.numpy()"
      ],
      "metadata": {
        "id": "AZMNm06QLaoa"
      },
      "execution_count": null,
      "outputs": []
    },
    {
      "cell_type": "code",
      "source": [
        "##lose함수 정의하기\n",
        "def cal_mse(x, y, a, b):\n",
        "    y_pred = a*x +b\n",
        "    squared_error = (y_pred - y) ** 2\n",
        "    mean_squared_error = tf.reduce_mean(squared_error)\n",
        "\n",
        "    return mean_squared_error"
      ],
      "metadata": {
        "id": "GI8pEeTbLafy"
      },
      "execution_count": null,
      "outputs": []
    },
    {
      "cell_type": "code",
      "source": [
        "a = tf.Variable(0.0)\n",
        "b = tf.Variable(0.0)\n",
        "\n",
        "EPOCHS = 300\n",
        "\n",
        "for epoch in range(1, EPOCHS+1):\n",
        "    with tf.GradientTape() as tape:\n",
        "        mse = cal_mse(x, y, a, b)\n",
        "    if mse < 0.00001:\n",
        "     break\n",
        "    \n",
        "    grade = tape.gradient(mse, {'a':a, 'b':b})\n",
        "    d_a, d_b = grade['a'], grade['b']\n",
        "    a.assign_sub(d_a * 0.05)## a = a - d_a*0.05(학습률)\n",
        "    b.assign_sub(d_b * 0.05)## b = b - d_b*0.05(학습률)\n",
        "\n",
        "    if epoch % 20 == 0:\n",
        "     print(\"EPOCH %d - MSE : %.4f - a: %.2f - b : %.2f\"%(epoch, mse, a, b))"
      ],
      "metadata": {
        "id": "ZtI_PABOLadj"
      },
      "execution_count": null,
      "outputs": []
    },
    {
      "cell_type": "code",
      "source": [
        "y_pred = 3 * x -2\n",
        "plt.scatter(x,y)\n",
        "plt.plot(x,y_pred, color = 'r')\n",
        "plt.show()"
      ],
      "metadata": {
        "id": "cahTfAiKLabW"
      },
      "execution_count": null,
      "outputs": []
    },
    {
      "cell_type": "code",
      "source": [
        "##데이터셋 생성(노이즈 첨가) \n",
        "g = tf.random.Generator.from_seed(2020)\n",
        "x1 = g.normal(shape=(10,))\n",
        "noise = np.random.normal(-abs(noise),abs(noise),size = (10,))\n",
        "y = 3 * x - 2 + noise "
      ],
      "metadata": {
        "id": "NF3aR2WVLaYA"
      },
      "execution_count": null,
      "outputs": []
    },
    {
      "cell_type": "code",
      "source": [
        "a = tf.Variable(0.0)\n",
        "b = tf.Variable(0.0)\n",
        "\n",
        "HS = 1000\n",
        "\n",
        "for epoch in range(1, EPOCHS+1):\n",
        "    with tf.GradientTape() as tape:\n",
        "        mse = cal_mse(x1, y, a, b)\n",
        "    if mse < 0.00001:\n",
        "     break\n",
        "    \n",
        "    grade = tape.gradient(mse, {'a':a, 'b':b})\n",
        "    d_a, d_b = grade['a'], grade['b']\n",
        "    a.assign_sub(d_a * 0.05)## a = a - d_a*0.05(학습률)\n",
        "    b.assign_sub(d_b * 0.05)## b = b - d_b*0.05(학습률)\n",
        "\n",
        "    if epoch % 20 == 0:\n",
        "     print(\"EPOCH %d - MSE : %.4f - a: %.2f - b : %.2f\"%(epoch, mse, a, b))"
      ],
      "metadata": {
        "id": "U8pKm8BKLaTm"
      },
      "execution_count": null,
      "outputs": []
    },
    {
      "cell_type": "code",
      "source": [
        "y_pred = 3.02 * x1 -2.26\n",
        "plt.scatter(x1,y)\n",
        "plt.plot(x1, y_pred, color = 'r')\n",
        "plt.show()"
      ],
      "metadata": {
        "id": "iYaWR0NxL42m"
      },
      "execution_count": null,
      "outputs": []
    },
    {
      "cell_type": "code",
      "source": [],
      "metadata": {
        "id": "RVDxXVNrWNVC"
      },
      "execution_count": null,
      "outputs": []
    },
    {
      "cell_type": "code",
      "source": [],
      "metadata": {
        "id": "wwaUV2z9WNSl"
      },
      "execution_count": null,
      "outputs": []
    }
  ]
}