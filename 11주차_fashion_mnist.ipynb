{
  "nbformat": 4,
  "nbformat_minor": 0,
  "metadata": {
    "colab": {
      "provenance": [],
      "authorship_tag": "ABX9TyN+D20R1VdznEGHj5ZAUawX",
      "include_colab_link": true
    },
    "kernelspec": {
      "name": "python3",
      "display_name": "Python 3"
    },
    "language_info": {
      "name": "python"
    }
  },
  "cells": [
    {
      "cell_type": "markdown",
      "metadata": {
        "id": "view-in-github",
        "colab_type": "text"
      },
      "source": [
        "<a href=\"https://colab.research.google.com/github/hsy19y/-/blob/main/11%EC%A3%BC%EC%B0%A8_fashion_mnist.ipynb\" target=\"_parent\"><img src=\"https://colab.research.google.com/assets/colab-badge.svg\" alt=\"Open In Colab\"/></a>"
      ]
    },
    {
      "cell_type": "code",
      "execution_count": 1,
      "metadata": {
        "colab": {
          "base_uri": "https://localhost:8080/"
        },
        "id": "VHpkZsdzwA_S",
        "outputId": "5db2d393-c6ad-46c7-8408-b79c4db4c14c"
      },
      "outputs": [
        {
          "output_type": "stream",
          "name": "stdout",
          "text": [
            "Downloading data from https://storage.googleapis.com/tensorflow/tf-keras-datasets/train-labels-idx1-ubyte.gz\n",
            "29515/29515 [==============================] - 0s 0us/step\n",
            "Downloading data from https://storage.googleapis.com/tensorflow/tf-keras-datasets/train-images-idx3-ubyte.gz\n",
            "26421880/26421880 [==============================] - 0s 0us/step\n",
            "Downloading data from https://storage.googleapis.com/tensorflow/tf-keras-datasets/t10k-labels-idx1-ubyte.gz\n",
            "5148/5148 [==============================] - 0s 0us/step\n",
            "Downloading data from https://storage.googleapis.com/tensorflow/tf-keras-datasets/t10k-images-idx3-ubyte.gz\n",
            "4422102/4422102 [==============================] - 0s 0us/step\n",
            "Epoch 1/5\n",
            "1875/1875 [==============================] - 23s 11ms/step - loss: 0.4650 - accuracy: 0.8332 - val_loss: 0.4196 - val_accuracy: 0.8447\n",
            "Epoch 2/5\n",
            "1875/1875 [==============================] - 13s 7ms/step - loss: 0.3537 - accuracy: 0.8706 - val_loss: 0.3684 - val_accuracy: 0.8648\n",
            "Epoch 3/5\n",
            "1875/1875 [==============================] - 13s 7ms/step - loss: 0.3187 - accuracy: 0.8827 - val_loss: 0.3755 - val_accuracy: 0.8633\n",
            "Epoch 4/5\n",
            "1875/1875 [==============================] - 11s 6ms/step - loss: 0.2946 - accuracy: 0.8915 - val_loss: 0.3578 - val_accuracy: 0.8755\n",
            "Epoch 5/5\n",
            "1875/1875 [==============================] - 11s 6ms/step - loss: 0.2776 - accuracy: 0.8963 - val_loss: 0.3454 - val_accuracy: 0.8779\n"
          ]
        }
      ],
      "source": [
        "import tensorflow as tf\n",
        "import numpy as np\n",
        "\n",
        "def solution_model():\n",
        "  fashion_mnist = tf.keras.datasets.fashion_mnist\n",
        "\n",
        "  ##1. test_set, train_set 다운\n",
        "  (train_images, train_labels), (test_images, test_labels) = fashion_mnist.load_data()\n",
        "\n",
        "  ##2. 정규화\n",
        "\n",
        "  train_images = train_images/255.0\n",
        "  test_images = test_images/255.0\n",
        "\n",
        "  ## 모델링\n",
        "\n",
        "  model = tf.keras.Sequential([\n",
        "      tf.keras.layers.Flatten(input_shape= (28,28)),\n",
        "      tf.keras.layers.Dense(512, activation= 'relu'),\n",
        "      tf.keras.layers.Dense(256, activation= 'relu'),\n",
        "      tf.keras.layers.Dense(10, activation= 'softmax'),\n",
        "  ])\n",
        "\n",
        "  ## 컴파일\n",
        "  model.compile(optimizer='adam', loss= 'sparse_categorical_crossentropy', metrics= ['accuracy'])\n",
        "\n",
        "  ## 학습\n",
        "  model.fit(train_images, train_labels, validation_data=(test_images, test_labels), epochs= 5)\n",
        "\n",
        "  return model\n",
        "\n",
        "if __name__ == '__main__':\n",
        "    model = solution_model()\n",
        "    model.save(\"TF2-fashion-mnist.h5\")"
      ]
    },
    {
      "cell_type": "code",
      "source": [
        "fashion_mnist = tf.keras.datasets.fashion_mnist\n",
        "(train_images, train_labels), (test_images, test_labels) = fashion_mnist.load_data()\n",
        "train_images = train_images/255.0\n",
        "test_images = test_images/255.0\n",
        "(loss, accuracy) = model.evaluate(test_images, test_labels)"
      ],
      "metadata": {
        "colab": {
          "base_uri": "https://localhost:8080/"
        },
        "id": "OGKBN03UzSWn",
        "outputId": "a8b95ac6-1c1f-4caf-f81b-3f9828e6737c"
      },
      "execution_count": 2,
      "outputs": [
        {
          "output_type": "stream",
          "name": "stdout",
          "text": [
            "313/313 [==============================] - 1s 2ms/step - loss: 0.3454 - accuracy: 0.8779\n"
          ]
        }
      ]
    }
  ]
}