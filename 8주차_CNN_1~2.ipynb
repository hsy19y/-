{
  "nbformat": 4,
  "nbformat_minor": 0,
  "metadata": {
    "colab": {
      "private_outputs": true,
      "provenance": [],
      "authorship_tag": "ABX9TyPmOONW4guJRmO3q2R5rQHn",
      "include_colab_link": true
    },
    "kernelspec": {
      "name": "python3",
      "display_name": "Python 3"
    },
    "language_info": {
      "name": "python"
    }
  },
  "cells": [
    {
      "cell_type": "markdown",
      "metadata": {
        "id": "view-in-github",
        "colab_type": "text"
      },
      "source": [
        "<a href=\"https://colab.research.google.com/github/hsy19y/-/blob/main/8%EC%A3%BC%EC%B0%A8_CNN_1~2.ipynb\" target=\"_parent\"><img src=\"https://colab.research.google.com/assets/colab-badge.svg\" alt=\"Open In Colab\"/></a>"
      ]
    },
    {
      "cell_type": "code",
      "execution_count": null,
      "metadata": {
        "id": "QJVPHTMm0pKP"
      },
      "outputs": [],
      "source": [
        "import tensorflow as tf\n",
        "import matplotlib.pyplot as plt"
      ]
    },
    {
      "cell_type": "code",
      "source": [
        "mnist = tf.keras.datasets.mnist\n",
        "(x_train, y_train), (x_valid,  y_valid) = mnist.load_data()\n",
        "\n",
        "def plot_image(data, idx):\n",
        "    plt.figure(figsize = (5,5))\n",
        "    plt.imshow(data[idx], cmap = 'gray')\n",
        "    plt.axis('off')\n",
        "    plt.show()\n",
        "plot_image(x_train, 0)"
      ],
      "metadata": {
        "id": "vSZj9Wgu1EgI"
      },
      "execution_count": null,
      "outputs": []
    },
    {
      "cell_type": "code",
      "source": [
        "print(x_train.min(), x_train.max())\n",
        "print(x_valid.min(), x_valid.max())"
      ],
      "metadata": {
        "id": "qVx5mn1J1EdW"
      },
      "execution_count": null,
      "outputs": []
    },
    {
      "cell_type": "code",
      "source": [
        "##정규화 실시\n",
        "x_train = x_train / x_train.max()\n",
        "x_valid = x_valid / x_valid.max()\n",
        "print(x_train.min(), x_train.max())\n",
        "print(x_valid.min(), x_valid.max())"
      ],
      "metadata": {
        "id": "K-e7xPqF1Ea5"
      },
      "execution_count": null,
      "outputs": []
    },
    {
      "cell_type": "code",
      "source": [
        "##마지막에 흑백 색상 채널추가\n",
        "x_train_in = x_train[...,tf.newaxis]\n",
        "x_valid_in = x_valid[...,tf.newaxis]\n",
        "print(x_train_in.shape, x_valid_in.shape)"
      ],
      "metadata": {
        "id": "1dbBkR3D1EZA"
      },
      "execution_count": null,
      "outputs": []
    },
    {
      "cell_type": "code",
      "source": [
        "## Conv2D, kernel:3X3, name : 레이어 이름 conv, 활성화 함수: ReLU\n",
        "model = tf.keras.Sequential([\n",
        "      tf.keras.layers.Conv2D(32,(3,3),activation = 'relu', input_shape = (28,28,1),name = 'conv'),\n",
        "      tf.keras.layers.MaxPool2D((2,2),name = 'pool'),\n",
        "      tf.keras.layers.Flatten(),\n",
        "      tf.keras.layers.Dense(10,activation = 'softmax')\n",
        "])\n",
        "\n",
        "model.compile(optimizer='adam', loss = 'sparse_categorical_crossentropy', metrics=['accuracy'])\n",
        "history = model.fit(x_train, y_train, validation_data = (x_valid, y_valid), epochs = 10)"
      ],
      "metadata": {
        "id": "8Xbuvlsn1EWk"
      },
      "execution_count": null,
      "outputs": []
    },
    {
      "cell_type": "code",
      "source": [
        "model.summary()"
      ],
      "metadata": {
        "id": "ZzGHjPGM1EUX"
      },
      "execution_count": null,
      "outputs": []
    },
    {
      "cell_type": "code",
      "source": [
        "model.evaluate(x_valid_in, y_valid)"
      ],
      "metadata": {
        "id": "pWE3VQMK1ESI"
      },
      "execution_count": null,
      "outputs": []
    },
    {
      "cell_type": "code",
      "source": [
        "loss, val_loss = history.history['loss'],history.history['val_loss']\n",
        "acc,val_acc = history.history['accuracy'],history.history['val_accuracy']\n",
        "epoch = 10\n",
        "fig,axes = plt.subplots(1,2,figsize = (12,4))\n",
        "axes[0].plot(range(1, epoch +1),loss,label = 'Training')\n",
        "axes[0].plot(range(1, epoch +1),val_loss,label = 'Validation')\n",
        "axes[0].legend(loc = 'best')\n",
        "axes[0].set_title('Loss')\n",
        "\n",
        "axes[1].plot(range(1, epoch +1),acc,label = 'Training')\n",
        "axes[1].plot(range(1, epoch +1),val_acc,label = 'Validation')\n",
        "axes[1].legend(loc = 'best')\n",
        "axes[1].set_title('Accuracy')\n",
        "\n",
        "plt.show()"
      ],
      "metadata": {
        "id": "CzZQrkYT1EPy"
      },
      "execution_count": null,
      "outputs": []
    },
    {
      "cell_type": "markdown",
      "source": [
        "## 모델구조 파악\n",
        "1. 입력형태 (28,28,1)\n",
        "2. 출력형태 (10)\n",
        "3. 첫번째 레이어 : 합성곱 Conv2D, 가중치(weight) (3,3,1,32) 3332 = 280개, 상수항 (bias) 32 / output (26,26,1,32)\n",
        "4. 두번째 레이어 : Pooling (26,26,,32)\n",
        "5. 세번째 레이어 : 1차 배열로 변환\n",
        "6. 네번째 레이어 : 출력"
      ],
      "metadata": {
        "id": "VaPL63FY3Yi-"
      }
    },
    {
      "cell_type": "code",
      "source": [
        "##각 층에 대한 정보\n",
        "model.layers"
      ],
      "metadata": {
        "id": "e0iMxkQU3Yz3"
      },
      "execution_count": null,
      "outputs": []
    },
    {
      "cell_type": "code",
      "source": [
        "##첫번째 레이어 :Conv2D 가중치 : 3*3*32 = 280개\n",
        "model.layers[0].weights"
      ],
      "metadata": {
        "id": "7F_3afeE3ZMA"
      },
      "execution_count": null,
      "outputs": []
    },
    {
      "cell_type": "code",
      "source": [
        "##첫번째 레이어 (Conv2D 상수항) : 32개\n",
        "model.layers[0].bias"
      ],
      "metadata": {
        "id": "c3H__zLu3ZJq"
      },
      "execution_count": null,
      "outputs": []
    },
    {
      "cell_type": "code",
      "source": [
        "#첫번째 레이어의 커널 가중치\n",
        "model.layers[0].kernel"
      ],
      "metadata": {
        "id": "xROYtq1v3ZHd"
      },
      "execution_count": null,
      "outputs": []
    },
    {
      "cell_type": "code",
      "source": [
        "model.layers[0].bias"
      ],
      "metadata": {
        "id": "Vs-FGbRD1EK2"
      },
      "execution_count": null,
      "outputs": []
    },
    {
      "cell_type": "code",
      "source": [
        "##Conv2D 레이어 이름으로 소환하기\n",
        "model.get_layer('conv')"
      ],
      "metadata": {
        "id": "o1gDYaI61EIp"
      },
      "execution_count": null,
      "outputs": []
    },
    {
      "cell_type": "code",
      "source": [
        "##Conv2D와 Pooling 레이어의 output(이미지) 출력\n",
        "##모델 만들기 : tf.keras.model(입력 = 입력 데이터, 출력 = 첫번째, 두번째 층의 출력)\n",
        "##모델 예측 : 모델명.predict()\n",
        "activator = tf.keras.Model(inputs = model.input,outputs = [layer.output for layer in model.layers[:2]] )"
      ],
      "metadata": {
        "id": "luifexZY306P"
      },
      "execution_count": null,
      "outputs": []
    },
    {
      "cell_type": "code",
      "source": [
        "##입력데이터 첫번째 5에 대해 출력해보자\n",
        "activations = activator.predict(x_train_in[0][tf.newaxis, ...])\n",
        "len(activations)\n",
        "##conv2D층과 Pooling층의 output 이므로 '2'라는 결과"
      ],
      "metadata": {
        "id": "kkW-xavr3038"
      },
      "execution_count": null,
      "outputs": []
    },
    {
      "cell_type": "code",
      "source": [
        "##activation[0]\n",
        "conv = activations[0]\n",
        "conv.shape"
      ],
      "metadata": {
        "id": "hJMGSfwe3011"
      },
      "execution_count": null,
      "outputs": []
    },
    {
      "cell_type": "code",
      "source": [
        "##'5'의 첫번째 Canv2D를 통과한 32개 kernel별 특성 맵 시각화\n",
        "##Convolution 시각화\n",
        "fig, axes = plt.subplots(4, 8)\n",
        "fig.set_size_inches(10,5)\n",
        "\n",
        "for i in range(32):\n",
        "    ax = axes[i//8, i%8]\n",
        "    ax.imshow(conv[0,:, :, i], cmap = 'viridis')\n",
        "    ax.set_title('kernel %s'%str(i), fontsize = 10)\n",
        "    plt.setp(axes[i//8,i%8].get_xticklabels(),visible = False)\n",
        "    plt.setp(axes[i//8,i%8].get_yticklabels(),visible = False)\n",
        "\n",
        "plt.tight_layout()\n",
        "plt.show()  "
      ],
      "metadata": {
        "id": "MmFrKXTX30zz"
      },
      "execution_count": null,
      "outputs": []
    },
    {
      "cell_type": "code",
      "source": [
        "##activations[1]\n",
        "pooling = activations[1]\n",
        "pooling.shape"
      ],
      "metadata": {
        "id": "lAI8RgQJ30xt"
      },
      "execution_count": null,
      "outputs": []
    },
    {
      "cell_type": "code",
      "source": [
        "##'5'의 두번째 pooling를 통과한 32개 kernel별 특성맵 시각화\n",
        "##pooling 시각화\n",
        "fig, axes = plt.subplots(4, 8)\n",
        "fig.set_size_inches(10,5)\n",
        "\n",
        "for i in range(32):\n",
        "    ax = axes[i//8, i%8]\n",
        "    ax.imshow(pooling[0,:, :, i], cmap = 'viridis')\n",
        "    ax.set_title('kernel %s'%str(i), fontsize = 10)\n",
        "    plt.setp(axes[i//8,i%8].get_xticklabels(),visible = False)\n",
        "    plt.setp(axes[i//8,i%8].get_yticklabels(),visible = False)\n",
        "\n",
        "plt.tight_layout()\n",
        "plt.show()  "
      ],
      "metadata": {
        "id": "RSWwnP2R30vn"
      },
      "execution_count": null,
      "outputs": []
    },
    {
      "cell_type": "code",
      "source": [
        "import tensorflow_hub as tfhub"
      ],
      "metadata": {
        "id": "Ndbpof8F-HhL"
      },
      "execution_count": null,
      "outputs": []
    },
    {
      "cell_type": "code",
      "source": [
        "img_path = 'https://th.bing.com/th/id/OIP.5svjCLKu80YkdgQCb_88SwHaEK?w=310&h=180&c=7&r=0&o=5&dpr=1.5&pid=1.7'\n",
        "img = tf.keras.utils.get_file(fname = 'doro', origin = img_path)\n",
        "img = tf.io.read_file(img)  # 파일 객체를 string으로 변환\n",
        "img = tf.image.decode_jpeg(img, channels = 3)  # 문자(string)를 숫자(unit8) 텐서로 변환\n",
        "img = tf.image.convert_image_dtype(img, tf.float32)  # 0~1 범위로 정규화\n",
        "\n",
        "import matplotlib.pylab as plt\n",
        "plt.figure(figsize = (15,10))\n",
        "plt.imshow(img)"
      ],
      "metadata": {
        "id": "xzurdNsO30tU"
      },
      "execution_count": null,
      "outputs": []
    },
    {
      "cell_type": "code",
      "source": [
        "img.shape"
      ],
      "metadata": {
        "id": "I3PwzDc530q5"
      },
      "execution_count": null,
      "outputs": []
    },
    {
      "cell_type": "code",
      "source": [
        "img_input = tf.expand_dims(img, 0) # batch_size 추가. 4차원 텐서로 입력\n",
        "img_input.shape"
      ],
      "metadata": {
        "id": "d7i5TRsF4P_v"
      },
      "execution_count": null,
      "outputs": []
    },
    {
      "cell_type": "code",
      "source": [
        "# TensorFlow Hub 에서 모델 가져오기 - FasterRCNN + lnceptionResNet V2\n",
        "model = tfhub.load(\"https://tfhub.dev/google/faster_rcnn/openimages_v4/inception_resnet_v2/1\")  "
      ],
      "metadata": {
        "id": "bUCAIx1e4P7n"
      },
      "execution_count": null,
      "outputs": []
    },
    {
      "cell_type": "code",
      "source": [
        "# 모델 시그니처(용도) 확인\n",
        "model.signatures.keys()"
      ],
      "metadata": {
        "id": "gAwQiO3D4P5i"
      },
      "execution_count": null,
      "outputs": []
    },
    {
      "cell_type": "code",
      "source": [
        "# 객체 탐지 모델 생성\n",
        "obj_detector = model.signatures['default']\n",
        "obj_detector"
      ],
      "metadata": {
        "id": "IzARy1ea4P3O"
      },
      "execution_count": null,
      "outputs": []
    },
    {
      "cell_type": "code",
      "source": [
        "# 모델을 이용하여 예측 (추론)\n",
        "result = obj_detector(img_input)\n",
        "result.keys()"
      ],
      "metadata": {
        "id": "yE0uGids4P1G"
      },
      "execution_count": null,
      "outputs": []
    },
    {
      "cell_type": "code",
      "source": [
        "#  탐지한 객체의 개수\n",
        "len(result[\"detection_scores\"])"
      ],
      "metadata": {
        "id": "xt4o7PWNAL5E"
      },
      "execution_count": null,
      "outputs": []
    },
    {
      "cell_type": "code",
      "source": [
        "type(result)"
      ],
      "metadata": {
        "id": "C3RsN2QK4PzD"
      },
      "execution_count": null,
      "outputs": []
    },
    {
      "cell_type": "code",
      "source": [
        "for  key, value in result.items():\n",
        "    print(key, value)"
      ],
      "metadata": {
        "id": "X4LjmbZjBUCy"
      },
      "execution_count": null,
      "outputs": []
    },
    {
      "cell_type": "code",
      "source": [
        "labels = result[\"detection_class_labels\"]\n",
        "names = result[\"detection_class_names\"]"
      ],
      "metadata": {
        "id": "dz1UEEudBG2D"
      },
      "execution_count": null,
      "outputs": []
    },
    {
      "cell_type": "code",
      "source": [
        "boxes = result[\"detection_boxes\"]   # Bounding Box 좌표 예측\n",
        "labels = result[\"detection_class_entities\"]   # 클래스 값\n",
        "scores = result[\"detection_scores\"]   # 신뢰도 (confidence)"
      ],
      "metadata": {
        "id": "XEjKy9QP4Pw7"
      },
      "execution_count": null,
      "outputs": []
    },
    {
      "cell_type": "code",
      "source": [
        "result[\"detection_scores\"]"
      ],
      "metadata": {
        "id": "cZYF74gyCIGv"
      },
      "execution_count": null,
      "outputs": []
    },
    {
      "cell_type": "code",
      "source": [
        "result[\"detection_boxes\"][0]"
      ],
      "metadata": {
        "id": "c5AekFoPCRjY"
      },
      "execution_count": null,
      "outputs": []
    },
    {
      "cell_type": "code",
      "source": [
        "result[\"detection_class_entities\"]"
      ],
      "metadata": {
        "id": "62v2dFw5CRdA"
      },
      "execution_count": null,
      "outputs": []
    },
    {
      "cell_type": "code",
      "source": [
        "# 샘플 이미지 가로 세로 크기\n",
        "img_height, img_width = img.shape[0], img.shape[1]\n",
        "# 탐지할 최대 객체의 갯수\n",
        "obj_to_detect = 10\n",
        "# 시각화\n",
        "for i in range(min(obj_to_detect, boxes.shape[0])):\n",
        "    if scores[i] >= 0.2:\n",
        "        (ymax, xmin, ymin, xmax) = (boxes[i][0] * img_height, boxes[i][1] * img_width,\n",
        "                                    boxes[i][2] * img_height, boxes[i][3] * img_width)\n",
        "        print(\"{} : ({},{},{},{})\".format(scores[i], ymax, xmin, ymin, xmax))"
      ],
      "metadata": {
        "id": "yDrKAHCbCe-P"
      },
      "execution_count": null,
      "outputs": []
    },
    {
      "cell_type": "code",
      "source": [
        "boxes = result[\"detection_boxes\"]   # Bounding Box 좌표 예측\n",
        "labels = result[\"detection_class_entities\"]   # 클래스 값\n",
        "scores = result[\"detection_scores\"]   # 신뢰도 (confidence)\n",
        "\n",
        "# 샘플 이미지 가로 세로 크기\n",
        "img_height, img_width = img.shape[0], img.shape[1]\n",
        "\n",
        "# 탐지할 최대 객체의 갯수\n",
        "obj_to_detect = 10\n",
        "\n",
        "plt.figure(figsize=(15, 10))\n",
        "for i in range(min(obj_to_detect, boxes.shape[0])):\n",
        "    if scores[i] >= 0.2:\n",
        "        (ymax, xmin, ymin, xmax) = (boxes[i][0]*img_height, boxes[i][1]*img_width,\n",
        "                                    boxes[i][2]*img_height, boxes[i][3]*img_width)\n",
        "        plt.imshow(img)\n",
        "        plt.plot([xmin, xmax, xmax, xmin, xmin], [ymin, ymin, ymax, ymax, ymin],\n",
        "                 color = 'yellow', linewidth = 2)\n",
        "      \n",
        "        class_name = labels[i].numpy().decode('utf-8')\n",
        "        infer_score = int(scores[i].numpy() * 100)\n",
        "        annotation = \"{}: {}%\". format(class_name, infer_score)\n",
        "        plt.text(xmin + 10, ymax + 20, annotation,\n",
        "                 color = 'white', backgroundcolor = 'blue', fontsize = 10)"
      ],
      "metadata": {
        "id": "pCtFNB5C4pIN"
      },
      "execution_count": null,
      "outputs": []
    }
  ]
}