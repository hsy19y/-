{
  "nbformat": 4,
  "nbformat_minor": 0,
  "metadata": {
    "colab": {
      "provenance": [],
      "authorship_tag": "ABX9TyN022m9cN7LX5D7ELUZyYva",
      "include_colab_link": true
    },
    "kernelspec": {
      "name": "python3",
      "display_name": "Python 3"
    },
    "language_info": {
      "name": "python"
    }
  },
  "cells": [
    {
      "cell_type": "markdown",
      "metadata": {
        "id": "view-in-github",
        "colab_type": "text"
      },
      "source": [
        "<a href=\"https://colab.research.google.com/github/hsy19y/-/blob/main/11%EC%A3%BC%EC%B0%A8_mnist.ipynb\" target=\"_parent\"><img src=\"https://colab.research.google.com/assets/colab-badge.svg\" alt=\"Open In Colab\"/></a>"
      ]
    },
    {
      "cell_type": "code",
      "execution_count": null,
      "metadata": {
        "colab": {
          "base_uri": "https://localhost:8080/"
        },
        "id": "HmZIroSZqaZV",
        "outputId": "b6da4b11-5649-4e1a-ea47-949ae913a158"
      },
      "outputs": [
        {
          "output_type": "stream",
          "name": "stdout",
          "text": [
            "Epoch 1/10\n",
            "1875/1875 [==============================] - 21s 11ms/step - loss: 0.2229 - accuracy: 0.9322 - val_loss: 0.1068 - val_accuracy: 0.9664\n",
            "Epoch 2/10\n",
            "1875/1875 [==============================] - 21s 11ms/step - loss: 0.0987 - accuracy: 0.9705 - val_loss: 0.0928 - val_accuracy: 0.9698\n",
            "Epoch 3/10\n",
            "1875/1875 [==============================] - 22s 12ms/step - loss: 0.0717 - accuracy: 0.9786 - val_loss: 0.0831 - val_accuracy: 0.9753\n",
            "Epoch 4/10\n",
            "1875/1875 [==============================] - 20s 11ms/step - loss: 0.0570 - accuracy: 0.9835 - val_loss: 0.1237 - val_accuracy: 0.9662\n",
            "Epoch 5/10\n",
            "1875/1875 [==============================] - 22s 12ms/step - loss: 0.0469 - accuracy: 0.9864 - val_loss: 0.0983 - val_accuracy: 0.9736\n",
            "Epoch 6/10\n",
            "1875/1875 [==============================] - 22s 12ms/step - loss: 0.0389 - accuracy: 0.9884 - val_loss: 0.0851 - val_accuracy: 0.9786\n",
            "Epoch 7/10\n",
            "1875/1875 [==============================] - 21s 11ms/step - loss: 0.0336 - accuracy: 0.9899 - val_loss: 0.0946 - val_accuracy: 0.9789\n",
            "Epoch 8/10\n",
            "1875/1875 [==============================] - 22s 11ms/step - loss: 0.0305 - accuracy: 0.9910 - val_loss: 0.0808 - val_accuracy: 0.9807\n",
            "Epoch 9/10\n",
            "1875/1875 [==============================] - 22s 12ms/step - loss: 0.0267 - accuracy: 0.9923 - val_loss: 0.0865 - val_accuracy: 0.9801\n",
            "Epoch 10/10\n",
            "1875/1875 [==============================] - 21s 11ms/step - loss: 0.0235 - accuracy: 0.9933 - val_loss: 0.0705 - val_accuracy: 0.9833\n"
          ]
        }
      ],
      "source": [
        "import tensorflow as tf\n",
        "import numpy as np\n",
        "\n",
        "def solution_model():\n",
        "  mnist = tf.keras.datasets.mnist\n",
        "\n",
        "  ##1. test_set, train_set 다운\n",
        "  (x_train, y_train), (x_test, y_test) = mnist.load_data()\n",
        "\n",
        "  ##2. 정규화\n",
        "\n",
        "  x_train = x_train/x_train.max()\n",
        "  x_test = x_test/x_test.max()\n",
        "\n",
        "  ## 모델링\n",
        "\n",
        "  model = tf.keras.Sequential([\n",
        "      tf.keras.layers.Flatten(input_shape= (28,28)),\n",
        "      tf.keras.layers.Dense(512, activation= 'relu'),\n",
        "      tf.keras.layers.Dense(256, activation= 'relu'),\n",
        "      tf.keras.layers.Dense(128, activation= 'relu'),\n",
        "      tf.keras.layers.Dense(64, activation= 'relu'),\n",
        "      tf.keras.layers.Dense(32, activation= 'relu'),\n",
        "      tf.keras.layers.Dense(10, activation= 'softmax'),\n",
        "  ])\n",
        "\n",
        "  ## 컴파일\n",
        "  model.compile(optimizer='adam', loss= 'sparse_categorical_crossentropy', metrics= ['accuracy'])\n",
        "\n",
        "  ## 학습\n",
        "  model.fit(x_train, y_train, validation_data=(x_test, y_test), epochs= 10)\n",
        "\n",
        "  return model\n",
        "\n",
        "if __name__ == '__main__':\n",
        "    model = solution_model()\n",
        "    model.save(\"TF2-mnist.h5\")"
      ]
    },
    {
      "cell_type": "code",
      "source": [
        "mnist = tf.keras.datasets.mnist\n",
        "(x_train, y_train), (x_test, y_test) = mnist.load_data()\n",
        "\n",
        "x_train = x_train/x_train.max()\n",
        "x_test = x_test/x_test.max()\n",
        "\n",
        "model.evaluate(x_test, y_test)"
      ],
      "metadata": {
        "colab": {
          "base_uri": "https://localhost:8080/"
        },
        "id": "VSwVtec3wObb",
        "outputId": "7777fbdb-c700-41e7-996b-35f30bf92246"
      },
      "execution_count": null,
      "outputs": [
        {
          "output_type": "stream",
          "name": "stdout",
          "text": [
            "313/313 [==============================] - 1s 4ms/step - loss: 0.0705 - accuracy: 0.9833\n"
          ]
        },
        {
          "output_type": "execute_result",
          "data": {
            "text/plain": [
              "[0.07046613097190857, 0.983299970626831]"
            ]
          },
          "metadata": {},
          "execution_count": 20
        }
      ]
    }
  ]
}