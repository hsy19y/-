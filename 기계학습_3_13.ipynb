{
  "nbformat": 4,
  "nbformat_minor": 0,
  "metadata": {
    "colab": {
      "provenance": [],
      "authorship_tag": "ABX9TyPhKFunMT+BfVC6YQnbKaLc",
      "include_colab_link": true
    },
    "kernelspec": {
      "name": "python3",
      "display_name": "Python 3"
    },
    "language_info": {
      "name": "python"
    }
  },
  "cells": [
    {
      "cell_type": "markdown",
      "metadata": {
        "id": "view-in-github",
        "colab_type": "text"
      },
      "source": [
        "<a href=\"https://colab.research.google.com/github/hsy19y/-/blob/main/%EA%B8%B0%EA%B3%84%ED%95%99%EC%8A%B5_3_13.ipynb\" target=\"_parent\"><img src=\"https://colab.research.google.com/assets/colab-badge.svg\" alt=\"Open In Colab\"/></a>"
      ]
    },
    {
      "cell_type": "markdown",
      "source": [
        "## 데이터 타임\n",
        "\n",
        "int(b) = float->int 변환\n",
        "\n",
        "\n",
        "\n"
      ],
      "metadata": {
        "id": "SJYgBGNGWcX8"
      }
    },
    {
      "cell_type": "code",
      "execution_count": null,
      "metadata": {
        "id": "PIytShKZVpFf"
      },
      "outputs": [],
      "source": [
        "a = 3\n",
        "b = 7.9\n",
        "c = \"Hello\""
      ]
    },
    {
      "cell_type": "code",
      "source": [
        "type(a)"
      ],
      "metadata": {
        "colab": {
          "base_uri": "https://localhost:8080/"
        },
        "id": "fiYViLP7V0Pl",
        "outputId": "c5ad28dc-56a2-47ff-a41e-3a6f31ac9678"
      },
      "execution_count": null,
      "outputs": [
        {
          "output_type": "execute_result",
          "data": {
            "text/plain": [
              "int"
            ]
          },
          "metadata": {},
          "execution_count": 16
        }
      ]
    },
    {
      "cell_type": "code",
      "source": [
        "b=int(b)"
      ],
      "metadata": {
        "id": "zrGzWiLpealX"
      },
      "execution_count": null,
      "outputs": []
    },
    {
      "cell_type": "code",
      "source": [
        "b"
      ],
      "metadata": {
        "colab": {
          "base_uri": "https://localhost:8080/"
        },
        "id": "_dArDguVeeKh",
        "outputId": "f23efebc-e0a8-4df6-e99f-2a6920a5364a"
      },
      "execution_count": null,
      "outputs": [
        {
          "output_type": "execute_result",
          "data": {
            "text/plain": [
              "7"
            ]
          },
          "metadata": {},
          "execution_count": 91
        }
      ]
    },
    {
      "cell_type": "markdown",
      "source": [
        "## 입력과 출력 \n",
        "input() : 문자열로 인식 output()\n",
        "\n",
        "[] : 집합,인텍싱,슬라이싱\n",
        "() : 함수,튜플\n",
        "{} : 딕셔너리"
      ],
      "metadata": {
        "id": "OhsEbgUgWmYA"
      }
    },
    {
      "cell_type": "code",
      "source": [
        "a = input()"
      ],
      "metadata": {
        "colab": {
          "base_uri": "https://localhost:8080/"
        },
        "id": "ZnbcLxp1X877",
        "outputId": "14719dbd-38b5-46d1-e1cb-5d8a0f2577d8"
      },
      "execution_count": null,
      "outputs": [
        {
          "name": "stdout",
          "output_type": "stream",
          "text": [
            "4\n"
          ]
        }
      ]
    },
    {
      "cell_type": "code",
      "source": [
        "x = 3"
      ],
      "metadata": {
        "id": "IHELlutiXFKU"
      },
      "execution_count": null,
      "outputs": []
    },
    {
      "cell_type": "code",
      "source": [
        "x"
      ],
      "metadata": {
        "colab": {
          "base_uri": "https://localhost:8080/"
        },
        "id": "a7VjPa-uYCB7",
        "outputId": "d15da64b-7ae8-48d6-982e-fded4edf7e76"
      },
      "execution_count": null,
      "outputs": [
        {
          "output_type": "execute_result",
          "data": {
            "text/plain": [
              "3"
            ]
          },
          "metadata": {},
          "execution_count": 106
        }
      ]
    },
    {
      "cell_type": "code",
      "source": [
        "type(a)"
      ],
      "metadata": {
        "colab": {
          "base_uri": "https://localhost:8080/"
        },
        "id": "f33lZKdLXGPk",
        "outputId": "f4da8f04-b48f-418e-a7da-282573f6317d"
      },
      "execution_count": null,
      "outputs": [
        {
          "output_type": "execute_result",
          "data": {
            "text/plain": [
              "int"
            ]
          },
          "metadata": {},
          "execution_count": 63
        }
      ]
    },
    {
      "cell_type": "code",
      "source": [
        "print(a)"
      ],
      "metadata": {
        "colab": {
          "base_uri": "https://localhost:8080/"
        },
        "id": "el8RRF7XYHIi",
        "outputId": "3d07ea61-da44-4a65-9f5d-6b55f2728e3b"
      },
      "execution_count": null,
      "outputs": [
        {
          "output_type": "stream",
          "name": "stdout",
          "text": [
            "3\n"
          ]
        }
      ]
    },
    {
      "cell_type": "code",
      "source": [
        "print(\"{}와 {}와 {}를 출력\". format(a,b,c))"
      ],
      "metadata": {
        "colab": {
          "base_uri": "https://localhost:8080/"
        },
        "id": "U-ZeWgzoYJW0",
        "outputId": "9dba7e3e-1633-4d5b-80a3-34c794488fd7"
      },
      "execution_count": null,
      "outputs": [
        {
          "output_type": "stream",
          "name": "stdout",
          "text": [
            "3와 7.9와 Hello를 출력\n"
          ]
        }
      ]
    },
    {
      "cell_type": "code",
      "source": [
        "print(\"%d %f %s 를 출력\" %(a,b,c))"
      ],
      "metadata": {
        "colab": {
          "base_uri": "https://localhost:8080/"
        },
        "id": "WBa0jC5zZEc_",
        "outputId": "d35535dd-9b49-4a09-c9d5-06deabb6aa97"
      },
      "execution_count": null,
      "outputs": [
        {
          "output_type": "stream",
          "name": "stdout",
          "text": [
            "3 7.900000 Hello 를 출력\n"
          ]
        }
      ]
    },
    {
      "cell_type": "code",
      "source": [
        "x = round(x,3)"
      ],
      "metadata": {
        "id": "5y5SvCV7Zvu1"
      },
      "execution_count": null,
      "outputs": []
    },
    {
      "cell_type": "code",
      "source": [
        "x"
      ],
      "metadata": {
        "colab": {
          "base_uri": "https://localhost:8080/"
        },
        "id": "TkOBKs0oZ6B8",
        "outputId": "b96727cf-f6c2-4f93-ea83-4554f39abbb7"
      },
      "execution_count": null,
      "outputs": [
        {
          "output_type": "execute_result",
          "data": {
            "text/plain": [
              "3"
            ]
          },
          "metadata": {},
          "execution_count": 79
        }
      ]
    },
    {
      "cell_type": "code",
      "source": [
        "type(x)"
      ],
      "metadata": {
        "colab": {
          "base_uri": "https://localhost:8080/"
        },
        "id": "fciWJYpAXJck",
        "outputId": "bdb838ae-8db2-4565-a32a-2a66a511b33f"
      },
      "execution_count": null,
      "outputs": [
        {
          "output_type": "execute_result",
          "data": {
            "text/plain": [
              "int"
            ]
          },
          "metadata": {},
          "execution_count": 80
        }
      ]
    },
    {
      "cell_type": "code",
      "source": [
        "a = int(input())"
      ],
      "metadata": {
        "colab": {
          "base_uri": "https://localhost:8080/"
        },
        "id": "noFyc5pmXXQm",
        "outputId": "be4a9d38-f560-4eef-efc3-00b4f5f92f25"
      },
      "execution_count": null,
      "outputs": [
        {
          "name": "stdout",
          "output_type": "stream",
          "text": [
            "8\n"
          ]
        }
      ]
    },
    {
      "cell_type": "code",
      "source": [
        "a"
      ],
      "metadata": {
        "colab": {
          "base_uri": "https://localhost:8080/"
        },
        "id": "FpYEqDvFfY4j",
        "outputId": "8c8ef08a-ead9-4aa8-dae7-1d2a3fa6b058"
      },
      "execution_count": null,
      "outputs": [
        {
          "output_type": "execute_result",
          "data": {
            "text/plain": [
              "8"
            ]
          },
          "metadata": {},
          "execution_count": 138
        }
      ]
    },
    {
      "cell_type": "markdown",
      "source": [
        "# 인덱싱 슬라이싱\n",
        "1. str1[1:3]  => 1<= x < 3\n",
        "2. str1[-3:-1] => -3 <= x <-1"
      ],
      "metadata": {
        "id": "_12_WVeIaCXZ"
      }
    },
    {
      "cell_type": "code",
      "source": [
        "str1 = \"Hello~~!! Python\""
      ],
      "metadata": {
        "id": "H_Aso_KHaIFg"
      },
      "execution_count": null,
      "outputs": []
    },
    {
      "cell_type": "code",
      "source": [
        "len(str1)"
      ],
      "metadata": {
        "colab": {
          "base_uri": "https://localhost:8080/"
        },
        "id": "9HhK0wzcaTqr",
        "outputId": "d77361ef-f94a-445e-a45e-dbf242ac800f"
      },
      "execution_count": null,
      "outputs": [
        {
          "output_type": "execute_result",
          "data": {
            "text/plain": [
              "16"
            ]
          },
          "metadata": {},
          "execution_count": 124
        }
      ]
    },
    {
      "cell_type": "code",
      "source": [
        "str1[15]"
      ],
      "metadata": {
        "colab": {
          "base_uri": "https://localhost:8080/",
          "height": 35
        },
        "id": "-Deq2ohTaWOr",
        "outputId": "ab90ec95-927d-4593-90c8-4caf0c1d4cd6"
      },
      "execution_count": null,
      "outputs": [
        {
          "output_type": "execute_result",
          "data": {
            "text/plain": [
              "'n'"
            ],
            "application/vnd.google.colaboratory.intrinsic+json": {
              "type": "string"
            }
          },
          "metadata": {},
          "execution_count": 125
        }
      ]
    },
    {
      "cell_type": "code",
      "source": [
        "str1[-1]"
      ],
      "metadata": {
        "colab": {
          "base_uri": "https://localhost:8080/",
          "height": 35
        },
        "id": "_17b7roract8",
        "outputId": "abc20e99-df48-4e18-f5f8-1900f9beac44"
      },
      "execution_count": null,
      "outputs": [
        {
          "output_type": "execute_result",
          "data": {
            "text/plain": [
              "'n'"
            ],
            "application/vnd.google.colaboratory.intrinsic+json": {
              "type": "string"
            }
          },
          "metadata": {},
          "execution_count": 126
        }
      ]
    },
    {
      "cell_type": "code",
      "source": [
        "str1[:-1]"
      ],
      "metadata": {
        "colab": {
          "base_uri": "https://localhost:8080/",
          "height": 35
        },
        "id": "vxQzyVSzclfL",
        "outputId": "aa03d7ca-cf63-4df0-dfd4-5cfdacb87e35"
      },
      "execution_count": null,
      "outputs": [
        {
          "output_type": "execute_result",
          "data": {
            "text/plain": [
              "'Hello~~!! Pytho'"
            ],
            "application/vnd.google.colaboratory.intrinsic+json": {
              "type": "string"
            }
          },
          "metadata": {},
          "execution_count": 127
        }
      ]
    },
    {
      "cell_type": "code",
      "source": [
        "str1[0:]"
      ],
      "metadata": {
        "colab": {
          "base_uri": "https://localhost:8080/",
          "height": 35
        },
        "id": "3DqrcLwma09j",
        "outputId": "73c47dd9-ab91-4fb0-c3ef-fd6e484958e5"
      },
      "execution_count": null,
      "outputs": [
        {
          "output_type": "execute_result",
          "data": {
            "text/plain": [
              "'Hello~~!! Python'"
            ],
            "application/vnd.google.colaboratory.intrinsic+json": {
              "type": "string"
            }
          },
          "metadata": {},
          "execution_count": 128
        }
      ]
    },
    {
      "cell_type": "code",
      "source": [
        "str1[1:6]"
      ],
      "metadata": {
        "colab": {
          "base_uri": "https://localhost:8080/",
          "height": 35
        },
        "id": "UFUVt5vba4We",
        "outputId": "6dfe2d63-d54d-413e-e2a0-b6aa877e23b0"
      },
      "execution_count": null,
      "outputs": [
        {
          "output_type": "execute_result",
          "data": {
            "text/plain": [
              "'ello~'"
            ],
            "application/vnd.google.colaboratory.intrinsic+json": {
              "type": "string"
            }
          },
          "metadata": {},
          "execution_count": 129
        }
      ]
    },
    {
      "cell_type": "code",
      "source": [
        "str1[-3:-1]"
      ],
      "metadata": {
        "colab": {
          "base_uri": "https://localhost:8080/",
          "height": 35
        },
        "id": "LYuDDHpVb8cE",
        "outputId": "e555547e-ed28-4f4c-f6c5-eee177fe4401"
      },
      "execution_count": null,
      "outputs": [
        {
          "output_type": "execute_result",
          "data": {
            "text/plain": [
              "'ho'"
            ],
            "application/vnd.google.colaboratory.intrinsic+json": {
              "type": "string"
            }
          },
          "metadata": {},
          "execution_count": 130
        }
      ]
    },
    {
      "cell_type": "code",
      "source": [
        "list1=[1,2,3,4,5]"
      ],
      "metadata": {
        "id": "uPHGWaVTcJP9"
      },
      "execution_count": null,
      "outputs": []
    },
    {
      "cell_type": "code",
      "source": [
        "dict1 = {\"이름\":\"황세윤\", \"나이\":24, \"학교\":\"한라대\"}"
      ],
      "metadata": {
        "id": "ZXOR_ypccftD"
      },
      "execution_count": null,
      "outputs": []
    },
    {
      "cell_type": "code",
      "source": [
        "dict1[\"이름\"]"
      ],
      "metadata": {
        "colab": {
          "base_uri": "https://localhost:8080/",
          "height": 35
        },
        "id": "hACd6jFVdRnL",
        "outputId": "2dbfa4bf-d5c6-4785-f641-ce7e3fdd3e58"
      },
      "execution_count": null,
      "outputs": [
        {
          "output_type": "execute_result",
          "data": {
            "text/plain": [
              "'황세윤'"
            ],
            "application/vnd.google.colaboratory.intrinsic+json": {
              "type": "string"
            }
          },
          "metadata": {},
          "execution_count": 66
        }
      ]
    },
    {
      "cell_type": "code",
      "source": [
        "dict1.keys()"
      ],
      "metadata": {
        "colab": {
          "base_uri": "https://localhost:8080/"
        },
        "id": "YqhX9BVEdwud",
        "outputId": "2543c01b-61d5-472d-dd3a-17d77c96a762"
      },
      "execution_count": null,
      "outputs": [
        {
          "output_type": "execute_result",
          "data": {
            "text/plain": [
              "dict_keys(['이름', '나이', '학교'])"
            ]
          },
          "metadata": {},
          "execution_count": 74
        }
      ]
    },
    {
      "cell_type": "code",
      "source": [
        "dict1.items()"
      ],
      "metadata": {
        "colab": {
          "base_uri": "https://localhost:8080/"
        },
        "id": "mIP1tSq4d2Dc",
        "outputId": "cb5099c8-bce7-43e5-c73e-4f8ca981c0cc"
      },
      "execution_count": null,
      "outputs": [
        {
          "output_type": "execute_result",
          "data": {
            "text/plain": [
              "dict_items([('이름', '황세윤'), ('나이', 24), ('학교', '한라대')])"
            ]
          },
          "metadata": {},
          "execution_count": 75
        }
      ]
    },
    {
      "cell_type": "code",
      "source": [
        "dict1.values()"
      ],
      "metadata": {
        "colab": {
          "base_uri": "https://localhost:8080/"
        },
        "id": "9_QIupbVd5-c",
        "outputId": "88c4bf7f-ebc8-4d17-bdd4-212e9f0583fc"
      },
      "execution_count": null,
      "outputs": [
        {
          "output_type": "execute_result",
          "data": {
            "text/plain": [
              "dict_values(['황세윤', 24, '한라대'])"
            ]
          },
          "metadata": {},
          "execution_count": 76
        }
      ]
    },
    {
      "cell_type": "markdown",
      "source": [
        "#제어문/ 반복문/ 함수만들기\n",
        "1. 산술연산자 + - * / %(나머지) // (몫) **(제곱수)\n",
        "2. 논리연산자 true false\n",
        "3. 비교연산자 a=3  a==3\n"
      ],
      "metadata": {
        "id": "znAyOcTTidZH"
      }
    },
    {
      "cell_type": "code",
      "source": [
        "x = 3\n",
        "y = 7\n",
        "z = 11"
      ],
      "metadata": {
        "id": "LnZ38Eogd-02"
      },
      "execution_count": null,
      "outputs": []
    },
    {
      "cell_type": "code",
      "source": [
        "z/x"
      ],
      "metadata": {
        "colab": {
          "base_uri": "https://localhost:8080/"
        },
        "id": "wx8XCsxSjLkE",
        "outputId": "ddff4122-e457-4de9-aef6-1b7c0991fd06"
      },
      "execution_count": null,
      "outputs": [
        {
          "output_type": "execute_result",
          "data": {
            "text/plain": [
              "3.6666666666666665"
            ]
          },
          "metadata": {},
          "execution_count": 140
        }
      ]
    },
    {
      "cell_type": "code",
      "source": [
        "a = round(z/x,4)"
      ],
      "metadata": {
        "id": "TKQuwl4-jRud"
      },
      "execution_count": null,
      "outputs": []
    },
    {
      "cell_type": "code",
      "source": [
        "a"
      ],
      "metadata": {
        "colab": {
          "base_uri": "https://localhost:8080/"
        },
        "id": "6jlpzqbzjiDW",
        "outputId": "87544150-486d-496d-af57-0775bc99ae6e"
      },
      "execution_count": null,
      "outputs": [
        {
          "output_type": "execute_result",
          "data": {
            "text/plain": [
              "3.6667"
            ]
          },
          "metadata": {},
          "execution_count": 143
        }
      ]
    },
    {
      "cell_type": "code",
      "source": [
        "if a<3:\n",
        "  print(\"TURE\")\n",
        "else:\n",
        "  print(\"FALSE\")"
      ],
      "metadata": {
        "colab": {
          "base_uri": "https://localhost:8080/"
        },
        "id": "c_BKvnvYkwsr",
        "outputId": "e2c50c62-ccf5-4b34-f58b-d55e728fd579"
      },
      "execution_count": null,
      "outputs": [
        {
          "output_type": "stream",
          "name": "stdout",
          "text": [
            "FALSE\n"
          ]
        }
      ]
    },
    {
      "cell_type": "code",
      "source": [
        "if a != 4:\n",
        " print(\"1\")\n",
        "elif a == 3:\n",
        " print(\"2\")\n",
        "else:\n",
        " print(\"3\")"
      ],
      "metadata": {
        "colab": {
          "base_uri": "https://localhost:8080/"
        },
        "id": "dJF50-7klUFk",
        "outputId": "726a35d2-7107-47dd-9609-020ce75b0a18"
      },
      "execution_count": null,
      "outputs": [
        {
          "output_type": "stream",
          "name": "stdout",
          "text": [
            "1\n"
          ]
        }
      ]
    },
    {
      "cell_type": "markdown",
      "source": [
        "학습과제"
      ],
      "metadata": {
        "id": "vjpprfNqsW3m"
      }
    },
    {
      "cell_type": "code",
      "source": [
        "num = int(input())\n",
        "if num%2 == 0:\n",
        "   print(\"짝수\")\n",
        "else:\n",
        "  print(\"홀수\")"
      ],
      "metadata": {
        "colab": {
          "base_uri": "https://localhost:8080/"
        },
        "id": "oEeLtMOBm2uE",
        "outputId": "5f80e72c-80b3-4e57-ed2e-4f5deee1dd46"
      },
      "execution_count": null,
      "outputs": [
        {
          "output_type": "stream",
          "name": "stdout",
          "text": [
            "5\n",
            "홀수\n"
          ]
        }
      ]
    },
    {
      "cell_type": "code",
      "source": [
        "score = float(input())\n",
        "if 90 <= score <=100:\n",
        "  print(\"A\")\n",
        "elif 80 <= score < 90:\n",
        "  print(\"B\")\n",
        "elif 70 <= score < 80:\n",
        "  print(\"C\")\n",
        "elif 60 <= score < 70:\n",
        "  print(\"D\")\n",
        "else:\n",
        " print(\"F\") "
      ],
      "metadata": {
        "colab": {
          "base_uri": "https://localhost:8080/"
        },
        "id": "Gc8c3ofRoiKJ",
        "outputId": "6dea9aae-d74c-47c2-90f1-c342fdddbfe5"
      },
      "execution_count": 14,
      "outputs": [
        {
          "output_type": "stream",
          "name": "stdout",
          "text": [
            "44\n",
            "F\n"
          ]
        }
      ]
    },
    {
      "cell_type": "code",
      "source": [
        "pw = input()\n",
        "입력 = input()\n",
        "if pw == 입력:\n",
        "  print(\"pass\")\n",
        "else:\n",
        " print('errow')"
      ],
      "metadata": {
        "colab": {
          "base_uri": "https://localhost:8080/"
        },
        "id": "Y1cnJPNNo9sj",
        "outputId": "873b352c-e546-45d3-96a5-10d38b2e32d5"
      },
      "execution_count": null,
      "outputs": [
        {
          "output_type": "stream",
          "name": "stdout",
          "text": [
            "3213!eW\n",
            "3213!eW\n",
            "pass\n"
          ]
        }
      ]
    },
    {
      "cell_type": "code",
      "source": [
        "year = int(input(\"자신의 년도를 입력\"))\n",
        "my = year%12\n",
        "a = {0:\"원숭이\", 1:\"닭\", 2:\"개\", 3:\"돼지\", 4:\"쥐\", 5:\"소\", 6:\"범\", 7:\"토끼\", 8:\"용\", 9:\"뱀\", 10:\"말\", 11:\"양\"}\n",
        "\n",
        "print(\"{}, {}\" .format(year, a[my]))\n"
      ],
      "metadata": {
        "id": "Z_0Ybusrsp9l",
        "colab": {
          "base_uri": "https://localhost:8080/"
        },
        "outputId": "76fecd0e-0a4e-4c4b-fe32-6ae394744100"
      },
      "execution_count": 24,
      "outputs": [
        {
          "output_type": "stream",
          "name": "stdout",
          "text": [
            "자신의 년도를 입력2000\n",
            "2000, 용\n"
          ]
        }
      ]
    },
    {
      "cell_type": "code",
      "source": [
        "year = int(input(\"연도를 입력\"))\n",
        "\n",
        "if year%4 == 0:\n",
        "  if year%100 == 0:\n",
        "    if year%400 == 0:\n",
        "      print(\"{}년은 윤년입니다.\".format(year))\n",
        "    else:\n",
        "        print(\"{}년은 평년입니다.\".format(year))\n",
        "  else:\n",
        "      print(\"{}년은 윤년입니다.\".format(year))\n",
        "else:\n",
        "  print(\"{}년은 평년입니다.\".format(year))\n"
      ],
      "metadata": {
        "id": "oj4auE3ws5Uk",
        "colab": {
          "base_uri": "https://localhost:8080/"
        },
        "outputId": "62ae72f1-2302-46ce-f779-45fe00df2140"
      },
      "execution_count": 12,
      "outputs": [
        {
          "output_type": "stream",
          "name": "stdout",
          "text": [
            "연도를 입력하시오 : 2022\n",
            "2022년은 평년입니다.\n"
          ]
        }
      ]
    }
  ]
}