{
  "nbformat": 4,
  "nbformat_minor": 0,
  "metadata": {
    "colab": {
      "private_outputs": true,
      "provenance": [],
      "authorship_tag": "ABX9TyPXtXQoCoZV370UKGwyGu5D",
      "include_colab_link": true
    },
    "kernelspec": {
      "name": "python3",
      "display_name": "Python 3"
    },
    "language_info": {
      "name": "python"
    }
  },
  "cells": [
    {
      "cell_type": "markdown",
      "metadata": {
        "id": "view-in-github",
        "colab_type": "text"
      },
      "source": [
        "<a href=\"https://colab.research.google.com/github/hsy19y/-/blob/main/6%EC%A3%BC%EC%B0%A8_0410.ipynb\" target=\"_parent\"><img src=\"https://colab.research.google.com/assets/colab-badge.svg\" alt=\"Open In Colab\"/></a>"
      ]
    },
    {
      "cell_type": "code",
      "execution_count": null,
      "metadata": {
        "id": "HUKB42UgfNwC"
      },
      "outputs": [],
      "source": [
        "import tensorflow as tf\n",
        "import numpy as np\n",
        "import matplotlib.pyplot as plt"
      ]
    },
    {
      "cell_type": "code",
      "source": [
        "## y = x^2 의 미분값 구하기\n",
        "x = tf.Variable(2.0)\n",
        "\n",
        "with tf.GradientTape() as tape:\n",
        "  y = x ** 2  \n",
        "dy_dx = tape.gradient(y,x)\n",
        "dy_dx.numpy()"
      ],
      "metadata": {
        "id": "pDh0hwLygvJl"
      },
      "execution_count": null,
      "outputs": []
    },
    {
      "cell_type": "code",
      "source": [
        " g = tf.random.Generator.from_seed(2020)\n",
        " x= g.normal(shape=(10,))\n",
        " y = 3*x - 2"
      ],
      "metadata": {
        "id": "UbkE5TNNgvHF"
      },
      "execution_count": null,
      "outputs": []
    },
    {
      "cell_type": "code",
      "source": [
        "x"
      ],
      "metadata": {
        "id": "i2dlL1EDgvC9"
      },
      "execution_count": null,
      "outputs": []
    },
    {
      "cell_type": "code",
      "source": [
        "y"
      ],
      "metadata": {
        "id": "0VEj7a_pgvAl"
      },
      "execution_count": null,
      "outputs": []
    },
    {
      "cell_type": "code",
      "source": [
        "##lose함수 정의하기\n",
        "def cal_mse(x, y, a, b):\n",
        "    y_pred = a*x +b\n",
        "    squared_error = (y_pred - y) ** 2\n",
        "    mean_squared_error = tf.reduce_mean(squared_error)\n",
        "\n",
        "    return mean_squared_error"
      ],
      "metadata": {
        "id": "OROayPhFmMzx"
      },
      "execution_count": null,
      "outputs": []
    },
    {
      "cell_type": "code",
      "source": [
        "a = tf.Variable(0.0)\n",
        "b = tf.Variable(0.0)\n",
        "ggrade = []\n",
        "inter = []\n",
        "\n",
        "EPOCHS = 500\n",
        "\n",
        "for epoch in range(1, EPOCHS+1):\n",
        "    with tf.GradientTape() as tape:\n",
        "        mse = cal_mse(x, y, a, b)\n",
        "    if mse < 0.00001:\n",
        "     break\n",
        "    \n",
        "    grade = tape.gradient(mse, {'a':a, 'b':b})\n",
        "    d_a, d_b = grade['a'], grade['b']\n",
        "#   print(\"[] :   d_a : []  d_b : []\\n\", format(epoch, d_a, d_b))\n",
        "    a.assign_sub(d_a * 0.05)## a = a - d_a*0.05(학습률)\n",
        "    b.assign_sub(d_b * 0.05)## b = b - d_b*0.05(학습률)\n",
        "    ggrade.append(a.numpy())\n",
        "    inter.append(b.numpy())\n",
        "#    print(\"a = []  b = [] \\n\", format(a,b))\n",
        "    if epoch % 10 == 0:\n",
        "     print(\"EPOCH %d - MSE : %.4f - a: %.2f - b : %.2f\"%(epoch, mse, a, b))"
      ],
      "metadata": {
        "id": "dIaoeoXngu-W"
      },
      "execution_count": null,
      "outputs": []
    },
    {
      "cell_type": "code",
      "source": [
        "##1회 d_a, d_b 값 구하기기\n",
        "d_a_1 = -np.sum(x*y)/10*2\n",
        "d_b_1 = -np.sum(y)/10*2\n",
        "print(\"1 : d_a : {}  d_b : {}  \".format(d_a_1, d_b_1))"
      ],
      "metadata": {
        "id": "xuXLNc92gu8F"
      },
      "execution_count": null,
      "outputs": []
    },
    {
      "cell_type": "code",
      "source": [
        "##데이터셋 생성(노이즈 첨가)\n",
        "g = tf.random.Generator.from_seed(2020)\n",
        "x1 = g.normal(shape = (10,))\n",
        "noise = np.random.normal(0.1, size = (10,))\n",
        "y = 3*x - 2 + noise"
      ],
      "metadata": {
        "id": "krCArqxiNdcP"
      },
      "execution_count": null,
      "outputs": []
    },
    {
      "cell_type": "code",
      "source": [
        "a_0 = 0; b_0 =0\n",
        "a_1 = a_0_1"
      ],
      "metadata": {
        "id": "P3Pdyx_UtTxp"
      },
      "execution_count": null,
      "outputs": []
    },
    {
      "cell_type": "code",
      "source": [],
      "metadata": {
        "id": "oQ5hFLq-uZsB"
      },
      "execution_count": null,
      "outputs": []
    },
    {
      "cell_type": "code",
      "source": [],
      "metadata": {
        "id": "a-30vIictUfQ"
      },
      "execution_count": null,
      "outputs": []
    },
    {
      "cell_type": "code",
      "source": [
        "y_pred = 3 * x -2\n",
        "plt.scatter(x,y)\n",
        "plt.plot(x,y_pred, color = 'r')\n",
        "plt.show()"
      ],
      "metadata": {
        "id": "4IrfP-yCobxw"
      },
      "execution_count": null,
      "outputs": []
    },
    {
      "cell_type": "code",
      "source": [
        "##데이터셋 생성(노이즈 첨가) \n",
        "g = tf.random.Generator.from_seed(2020)\n",
        "x1 = g.normal(shape=(10,))\n",
        "noise1 = np.random.normal(-abs(noise),abs(noise),size = (10,))\n",
        "y_1 = 3 * x - 2 + noise_1 "
      ],
      "metadata": {
        "id": "73Xs-7Gxo2Jn"
      },
      "execution_count": null,
      "outputs": []
    },
    {
      "cell_type": "code",
      "source": [
        "a = tf.Variable(0.0)\n",
        "b = tf.Variable(0.0)\n",
        "ggrade = []\n",
        "inter = []\n",
        "\n",
        "EPOCHS = 1000\n",
        "\n",
        "for epoch in range(1, EPOCHS+1):\n",
        "    with tf.GradientTape() as tape:\n",
        "        mse = cal_mse(x, y_1, a, b)\n",
        "#    if mse < 0.00001:\n",
        "#     break\n",
        "    \n",
        "    grade = tape.gradient(mse, {'a':a, 'b':b})\n",
        "    d_a, d_b = grade['a'], grade['b']\n",
        "#   print(\"[] :   d_a : []  d_b : []\\n\", format(epoch, d_a, d_b))\n",
        "    a.assign_sub(d_a * 0.05)## a = a - d_a*0.05(학습률)\n",
        "    b.assign_sub(d_b * 0.05)## b = b - d_b*0.05(학습률)\n",
        "    ggrade.append(a.numpy())\n",
        "    inter.append(b.numpy())\n",
        "#    print(\"a = []  b = [] \\n\", format(a,b))\n",
        "    if epoch % 20 == 0:\n",
        "     print(\"EPOCH %d - MSE : %.4f - a: %.2f - b : %.2f\"%(epoch, mse, a, b))"
      ],
      "metadata": {
        "id": "bsX3RRQ9o8a_"
      },
      "execution_count": null,
      "outputs": []
    },
    {
      "cell_type": "code",
      "source": [
        "y_pred = 2.52 * x -1.93\n",
        "plt.scatter(x,y_1)\n",
        "plt.plot(x,y_pred, color = 'r')\n",
        "plt.show()"
      ],
      "metadata": {
        "id": "TegKlxc7qAGg"
      },
      "execution_count": null,
      "outputs": []
    },
    {
      "cell_type": "code",
      "source": [
        "xx = tf.range(-5,5,0.1)\n",
        "yy = tf.nn.sigmoid(xx)\n",
        "plt.plot(xx,yy, 'r-')\n",
        "plt.show()"
      ],
      "metadata": {
        "id": "25Aveyy8uXCQ"
      },
      "execution_count": null,
      "outputs": []
    },
    {
      "cell_type": "code",
      "source": [
        "with tf.GradientTape() as tape:\n",
        "    tape.watch(xx)\n",
        "    yy = tf.sigmoid(xx)\n",
        "dy = tape.gradient(yy,xx)"
      ],
      "metadata": {
        "id": "jmxbCddjuW7I"
      },
      "execution_count": null,
      "outputs": []
    },
    {
      "cell_type": "code",
      "source": [
        "plt.plot(xx,yy, \"r-\")\n",
        "plt.plot(xx,dy, \"b--\")\n",
        "plt.show()"
      ],
      "metadata": {
        "id": "lbuyMheouW3g"
      },
      "execution_count": null,
      "outputs": []
    },
    {
      "cell_type": "markdown",
      "source": [
        "과제 : break 조건\n",
        "## ex)\n",
        "1. mse < 0.00001\n",
        "2. mse -mse < 0.000001"
      ],
      "metadata": {
        "id": "KssplBlDuf-Q"
      }
    },
    {
      "cell_type": "markdown",
      "source": [
        "##경사하강법"
      ],
      "metadata": {
        "id": "se-tCyL1vRdR"
      }
    },
    {
      "cell_type": "code",
      "source": [
        "def make_linear(w = 0.5, b = 0.8, size = 50, noise = 1.0):\n",
        "  x = np.random.rand(size)\n",
        "  y = w*x+b\n",
        "  noise = np.random.uniform(-abs(noise), abs(noise), size = y.shape)\n",
        "  yy = y+noise\n",
        "  plt.figure(figsize = (7,5))\n",
        "  plt.plot(x, y, color='r', label= f'y = {w}*x + {b}')\n",
        "  plt.scatter(x,yy,label = 'data')\n",
        "  plt.legend(fontsize = 10)\n",
        "  plt.show()\n",
        "  print(f'w: {w}, b: {b}')\n",
        "  return x,yy\n",
        "\n",
        "x,y = make_linear(w = 0.3, b = 0.5, size = 100, noise = 0.01)"
      ],
      "metadata": {
        "id": "KX7f3kMlgu5V"
      },
      "execution_count": null,
      "outputs": []
    },
    {
      "cell_type": "markdown",
      "source": [
        "##시각화"
      ],
      "metadata": {
        "id": "FZZDh5z30Pqr"
      }
    },
    {
      "cell_type": "code",
      "source": [
        "plt.figure(figsize = (7.5))\n",
        "plt.plot(errors)\n",
        "plt.xlabel('E')\n",
        "plt.ylabel('errors')\n",
        "plt.show()"
      ],
      "metadata": {
        "id": "2zc6FO7F0TvM"
      },
      "execution_count": null,
      "outputs": []
    },
    {
      "cell_type": "markdown",
      "source": [
        "##단순 선형 회귀 모델 만들기\n",
        "1. 데이터 생성\n",
        "2. 단순 선형 회귀 모델 만들기\n",
        "3. 컴파일\n",
        "4. 훈련\n",
        "5. 검증\n",
        "6. 예측측"
      ],
      "metadata": {
        "id": "EZDUhsRP01zK"
      }
    },
    {
      "cell_type": "code",
      "source": [
        "##데이터 셋 만들기\n",
        "model1 = tf.keras.Sequential([\n",
        "    tf.keras.layers.Dense(1, input_shape = [1])\n",
        "])"
      ],
      "metadata": {
        "id": "XNM2rfqa1HDt"
      },
      "execution_count": null,
      "outputs": []
    },
    {
      "cell_type": "code",
      "source": [
        "model1.summary()"
      ],
      "metadata": {
        "id": "8yLWCYsL1Qkp"
      },
      "execution_count": null,
      "outputs": []
    },
    {
      "cell_type": "code",
      "source": [
        "##옵티마이저: 경사하강법, 손실함수 : 평균제곱오차함수, 평가치표: 평균절대오차\n",
        "model1.compile(optimizer='sgd', loss = 'mse', metrics = ['mae'])"
      ],
      "metadata": {
        "id": "FFGSYZHk1QhR"
      },
      "execution_count": null,
      "outputs": []
    },
    {
      "cell_type": "code",
      "source": [
        "##훈련: 데이터셋 사용, 에포크 지정\n",
        "history1 = model1.fit(x,y,epochs=1200)"
      ],
      "metadata": {
        "id": "PrLZ4FLD1Qey"
      },
      "execution_count": null,
      "outputs": []
    },
    {
      "cell_type": "code",
      "source": [
        "plt.plot(history1.history['loss'], label='loss')\n",
        "plt.plot(history1.history['mae'], label='mae')\n",
        "plt.xlim(-1.20)\n",
        "plt.title('Loss')\n",
        "plt.legend()\n",
        "plt.show()"
      ],
      "metadata": {
        "id": "oa-Vi1KkQbQY"
      },
      "execution_count": null,
      "outputs": []
    },
    {
      "cell_type": "code",
      "source": [
        "model1.predict([10])"
      ],
      "metadata": {
        "id": "itZ0gML1RvJH"
      },
      "execution_count": null,
      "outputs": []
    },
    {
      "cell_type": "markdown",
      "source": [
        "##단순선형회귀\n",
        "1. 데이터는 변수 1개인 1차 리스트 형식\n",
        "2. 1개의 노드로 이루어진 텐스레이어 1개개"
      ],
      "metadata": {
        "id": "51WRKd_71Q_K"
      }
    },
    {
      "cell_type": "code",
      "source": [
        "x = np.arange(1, 6)\n",
        "y1 = 3*x + 2\n",
        "print(x, y1)"
      ],
      "metadata": {
        "id": "29K7TM3cVArM"
      },
      "execution_count": null,
      "outputs": []
    },
    {
      "cell_type": "code",
      "source": [
        "type(x)"
      ],
      "metadata": {
        "id": "gJmfecldVC05"
      },
      "execution_count": null,
      "outputs": []
    },
    {
      "cell_type": "code",
      "source": [
        "type(y1)"
      ],
      "metadata": {
        "id": "vSstOswxVDrV"
      },
      "execution_count": null,
      "outputs": []
    },
    {
      "cell_type": "code",
      "source": [
        "plt.figure(figsize = (5, 3))\n",
        "plt.plot(x, y1, 'b-')\n",
        "plt.show()"
      ],
      "metadata": {
        "id": "JGVJI5SMVH8t"
      },
      "execution_count": null,
      "outputs": []
    },
    {
      "cell_type": "code",
      "source": [
        "model1 = tf.keras,Sequential([\n",
        "    "
      ],
      "metadata": {
        "id": "hsy7VyKi1dpq"
      },
      "execution_count": null,
      "outputs": []
    },
    {
      "cell_type": "markdown",
      "source": [
        "과제 : break 조건\n",
        "\n",
        "ex)\n",
        "1. mse < 0.00001\n",
        "2. mse -mse < 0.000001\n",
        "\n"
      ],
      "metadata": {
        "id": "sTFfAzwERRA9"
      }
    },
    {
      "cell_type": "code",
      "source": [
        "g = tf.random.Generator.from_seed(2020)\n",
        "x = g.normal(shape = (10,))\n",
        "noise = np.random.normal(0.1, size = (10,))\n",
        "y = 3 * x  - 2 + noise"
      ],
      "metadata": {
        "id": "2q664bBBW8nc"
      },
      "execution_count": null,
      "outputs": []
    },
    {
      "cell_type": "code",
      "source": [
        "a = tf.Variable(0.0)\n",
        "b = tf.Variable(0.0)\n",
        "\n",
        "EPOCHS = 250\n",
        "\n",
        "for epoch in range(1, EPOCHS+1):\n",
        "    with tf.GradientTape() as tape:\n",
        "        mse = cal_mse(x, y, a, b)\n",
        "    if mse < 0.00001:\n",
        "     break\n",
        "    \n",
        "    grade = tape.gradient(mse, {'a':a, 'b':b})\n",
        "    d_a, d_b = grade['a'], grade['b']\n",
        "#   print(\"[] :   d_a : []  d_b : []\\n\", format(epoch, d_a, d_b))\n",
        "    a.assign_sub(d_a * 0.05)## a = a - d_a*0.05(학습률)\n",
        "    b.assign_sub(d_b * 0.05)## b = b - d_b*0.05(학습률)\n",
        "    ggrade.append(a.numpy())\n",
        "    inter.append(b.numpy())\n",
        "#    print(\"a = []  b = [] \\n\", format(a,b))\n",
        "    if epoch % 10 == 0:\n",
        "     print(\"EPOCH %d - MSE : %.4f - a: %.2f - b : %.2f\"%(epoch, mse, a, b))"
      ],
      "metadata": {
        "id": "svj3UGADUa--"
      },
      "execution_count": null,
      "outputs": []
    },
    {
      "cell_type": "code",
      "source": [
        "y_pred = 3.23 * x- 2.25\n",
        "plt.scatter(x,y)\n",
        "plt.plot(x,y_pred,color = 'r')\n",
        "plt.show()"
      ],
      "metadata": {
        "id": "J0yfDo5FYWy3"
      },
      "execution_count": null,
      "outputs": []
    },
    {
      "cell_type": "code",
      "source": [
        "a = tf.Variable(0.0)\n",
        "b = tf.Variable(0.0)\n",
        "\n",
        "EPOCHS = 300\n",
        "mse_1 = 0.0\n",
        "\n",
        "for epoch in range(1, EPOCHS+1):\n",
        "    with tf.GradientTape() as tape:\n",
        "        mse = cal_mse(x, y, a, b)\n",
        "    if abs(mse - mse_1) < 0.000001:\n",
        "     break\n",
        "     mse_1 = mse\n",
        "    \n",
        "    grade = tape.gradient(mse, {'a':a, 'b':b})\n",
        "    d_a, d_b = grade['a'], grade['b']\n",
        "#   print(\"[] :   d_a : []  d_b : []\\n\", format(epoch, d_a, d_b))\n",
        "    a.assign_sub(d_a * 0.05)## a = a - d_a*0.05(학습률)\n",
        "    b.assign_sub(d_b * 0.05)## b = b - d_b*0.05(학습률)\n",
        "    ggrade.append(a.numpy())\n",
        "    inter.append(b.numpy())\n",
        "#    print(\"a = []  b = [] \\n\", format(a,b))\n",
        "    if epoch % 10 == 0:\n",
        "     print(\"EPOCH %d - MSE : %.4f - a: %.2f - b : %.2f\"%(epoch, mse, a, b))"
      ],
      "metadata": {
        "id": "W_P3zJvTRW4P"
      },
      "execution_count": null,
      "outputs": []
    },
    {
      "cell_type": "code",
      "source": [
        "y_pred = 2.84*x -2.13\n",
        "plt.scatter(x,y)\n",
        "plt.plot(x, y_pred, color = 'r')\n",
        "plt.show()"
      ],
      "metadata": {
        "id": "qt_hn6U6WfLO"
      },
      "execution_count": null,
      "outputs": []
    }
  ]
}