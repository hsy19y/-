{
  "nbformat": 4,
  "nbformat_minor": 0,
  "metadata": {
    "colab": {
      "provenance": [],
      "authorship_tag": "ABX9TyPMRok/J0+VkjmiZId46xyR",
      "include_colab_link": true
    },
    "kernelspec": {
      "name": "python3",
      "display_name": "Python 3"
    },
    "language_info": {
      "name": "python"
    },
    "gpuClass": "standard"
  },
  "cells": [
    {
      "cell_type": "markdown",
      "metadata": {
        "id": "view-in-github",
        "colab_type": "text"
      },
      "source": [
        "<a href=\"https://colab.research.google.com/github/hsy19y/-/blob/main/%EA%B8%B0%EA%B3%84%ED%95%99%EC%8A%B5_7%EC%A3%BC%EC%B0%A8_%EA%B3%BC%EC%A0%9C_0417.ipynb\" target=\"_parent\"><img src=\"https://colab.research.google.com/assets/colab-badge.svg\" alt=\"Open In Colab\"/></a>"
      ]
    },
    {
      "cell_type": "code",
      "execution_count": 1,
      "metadata": {
        "id": "bD81JPTDdimc"
      },
      "outputs": [],
      "source": [
        "import tensorflow as tf\n",
        "import numpy as np\n",
        "import matplotlib.pyplot as plt"
      ]
    },
    {
      "cell_type": "code",
      "source": [
        "##데이터셋 로드\n",
        "mnist = tf.keras.datasets.mnist"
      ],
      "metadata": {
        "id": "yK-Ovwljdz9H"
      },
      "execution_count": 2,
      "outputs": []
    },
    {
      "cell_type": "code",
      "source": [
        "(x_train, y_train),(x_test, y_test) = mnist.load_data()"
      ],
      "metadata": {
        "colab": {
          "base_uri": "https://localhost:8080/"
        },
        "id": "0VfG8ReJeA2S",
        "outputId": "baf81399-c036-44fd-d53f-c07958dc2b69"
      },
      "execution_count": 3,
      "outputs": [
        {
          "output_type": "stream",
          "name": "stdout",
          "text": [
            "Downloading data from https://storage.googleapis.com/tensorflow/tf-keras-datasets/mnist.npz\n",
            "11490434/11490434 [==============================] - 0s 0us/step\n"
          ]
        }
      ]
    },
    {
      "cell_type": "markdown",
      "source": [
        "##4-1 가중치 초기화\n",
        "\n",
        "1. he_uniform : 활성화 함수가 ReLU 인 경우 사용\n",
        "2. glorot_uniform : 활성화 함수가 Sigmoid, Tahn 인 경우 사용"
      ],
      "metadata": {
        "id": "_snSLl2WeDz9"
      }
    },
    {
      "cell_type": "code",
      "source": [
        "##kernel_initializer = 'uniform'\n",
        "dense = tf.keras.layers.Dense(256, kernel_initializer = 'uniform', activation = 'relu')"
      ],
      "metadata": {
        "id": "PEnJv5UYeKNN"
      },
      "execution_count": 26,
      "outputs": []
    },
    {
      "cell_type": "code",
      "source": [
        "##kernel_initializer = 'normal'\n",
        "dense = tf.keras.layers.Dense(256, kernel_initializer = 'normal', activation = 'relu')"
      ],
      "metadata": {
        "id": "E7t-WuZIeNA3"
      },
      "execution_count": 27,
      "outputs": []
    },
    {
      "cell_type": "code",
      "source": [
        "##kernel_initializer = 'he_normal'\n",
        "dense = tf.keras.layers.Dense(256, kernel_initializer = 'he_normal', activation = 'relu')"
      ],
      "metadata": {
        "id": "MUlTDWsueM74"
      },
      "execution_count": 28,
      "outputs": []
    },
    {
      "cell_type": "code",
      "source": [
        "##가중치를 적용하지 않은 경우\n",
        "model = tf.keras.Sequential([tf.keras.layers.Flatten(input_shape = (28,28)),\n",
        "                             tf.keras.layers.Dense(64, activation = 'relu'),\n",
        "                             tf.keras.layers.Dense(32, activation = 'relu'),\n",
        "                             tf.keras.layers.Dense(10, activation = 'softmax')])\n",
        "model.summary()"
      ],
      "metadata": {
        "colab": {
          "base_uri": "https://localhost:8080/"
        },
        "id": "IS73lQybeMv0",
        "outputId": "0a400c93-ca0f-4569-ac84-d3598f239b57"
      },
      "execution_count": 29,
      "outputs": [
        {
          "output_type": "stream",
          "name": "stdout",
          "text": [
            "Model: \"sequential_8\"\n",
            "_________________________________________________________________\n",
            " Layer (type)                Output Shape              Param #   \n",
            "=================================================================\n",
            " flatten_8 (Flatten)         (None, 784)               0         \n",
            "                                                                 \n",
            " dense_30 (Dense)            (None, 64)                50240     \n",
            "                                                                 \n",
            " dense_31 (Dense)            (None, 32)                2080      \n",
            "                                                                 \n",
            " dense_32 (Dense)            (None, 10)                330       \n",
            "                                                                 \n",
            "=================================================================\n",
            "Total params: 52,650\n",
            "Trainable params: 52,650\n",
            "Non-trainable params: 0\n",
            "_________________________________________________________________\n"
          ]
        }
      ]
    },
    {
      "cell_type": "code",
      "source": [
        "model.compile(optimizer = 'adam', loss = 'sparse_categorical_crossentropy', metrics = ['accuracy'])\n",
        "history = model.fit(x_train, y_train, validation_data = (x_test, y_test), epochs = 10)"
      ],
      "metadata": {
        "colab": {
          "base_uri": "https://localhost:8080/"
        },
        "id": "mGsJvCqDelUB",
        "outputId": "ff19932c-9320-45c6-811e-c224abed1338"
      },
      "execution_count": 30,
      "outputs": [
        {
          "output_type": "stream",
          "name": "stdout",
          "text": [
            "Epoch 1/10\n",
            "1875/1875 [==============================] - 6s 3ms/step - loss: 1.6855 - accuracy: 0.8064 - val_loss: 0.4730 - val_accuracy: 0.8910\n",
            "Epoch 2/10\n",
            "1875/1875 [==============================] - 6s 3ms/step - loss: 0.3480 - accuracy: 0.9091 - val_loss: 0.2997 - val_accuracy: 0.9292\n",
            "Epoch 3/10\n",
            "1875/1875 [==============================] - 6s 3ms/step - loss: 0.2373 - accuracy: 0.9345 - val_loss: 0.2289 - val_accuracy: 0.9388\n",
            "Epoch 4/10\n",
            "1875/1875 [==============================] - 6s 3ms/step - loss: 0.1937 - accuracy: 0.9451 - val_loss: 0.2153 - val_accuracy: 0.9432\n",
            "Epoch 5/10\n",
            "1875/1875 [==============================] - 5s 3ms/step - loss: 0.1623 - accuracy: 0.9536 - val_loss: 0.1718 - val_accuracy: 0.9540\n",
            "Epoch 6/10\n",
            "1875/1875 [==============================] - 5s 3ms/step - loss: 0.1458 - accuracy: 0.9584 - val_loss: 0.1937 - val_accuracy: 0.9509\n",
            "Epoch 7/10\n",
            "1875/1875 [==============================] - 7s 4ms/step - loss: 0.1350 - accuracy: 0.9603 - val_loss: 0.1716 - val_accuracy: 0.9572\n",
            "Epoch 8/10\n",
            "1875/1875 [==============================] - 6s 3ms/step - loss: 0.1217 - accuracy: 0.9651 - val_loss: 0.1736 - val_accuracy: 0.9592\n",
            "Epoch 9/10\n",
            "1875/1875 [==============================] - 5s 3ms/step - loss: 0.1172 - accuracy: 0.9669 - val_loss: 0.1754 - val_accuracy: 0.9597\n",
            "Epoch 10/10\n",
            "1875/1875 [==============================] - 5s 3ms/step - loss: 0.1079 - accuracy: 0.9695 - val_loss: 0.1932 - val_accuracy: 0.9532\n"
          ]
        }
      ]
    },
    {
      "cell_type": "code",
      "source": [
        "####kernel_initializer = 'he_normal' 을 적용한 경우\n",
        "model_w_he = tf.keras.Sequential([tf.keras.layers.Flatten(input_shape = (28,28)),\n",
        "                                  tf.keras.layers.Dense(64, kernel_initializer = 'he_normal', activation = 'relu'),\n",
        "                                  tf.keras.layers.Dense(32, activation = 'relu'),\n",
        "                                  tf.keras.layers.Dense(10, activation = 'softmax')])\n",
        "model_w_he.summary()"
      ],
      "metadata": {
        "colab": {
          "base_uri": "https://localhost:8080/"
        },
        "id": "Nq0wg7Mfev4u",
        "outputId": "4188c3fa-6b7f-47b6-fb53-3ce6783d51d9"
      },
      "execution_count": 31,
      "outputs": [
        {
          "output_type": "stream",
          "name": "stdout",
          "text": [
            "Model: \"sequential_9\"\n",
            "_________________________________________________________________\n",
            " Layer (type)                Output Shape              Param #   \n",
            "=================================================================\n",
            " flatten_9 (Flatten)         (None, 784)               0         \n",
            "                                                                 \n",
            " dense_33 (Dense)            (None, 64)                50240     \n",
            "                                                                 \n",
            " dense_34 (Dense)            (None, 32)                2080      \n",
            "                                                                 \n",
            " dense_35 (Dense)            (None, 10)                330       \n",
            "                                                                 \n",
            "=================================================================\n",
            "Total params: 52,650\n",
            "Trainable params: 52,650\n",
            "Non-trainable params: 0\n",
            "_________________________________________________________________\n"
          ]
        }
      ]
    },
    {
      "cell_type": "code",
      "source": [
        "model_w_he.compile(optimizer = 'adam', loss = 'sparse_categorical_crossentropy', metrics = ['accuracy'])\n",
        "history_w_he = model_w_he.fit(x_train, y_train, validation_data = (x_test, y_test), epochs = 10)"
      ],
      "metadata": {
        "colab": {
          "base_uri": "https://localhost:8080/"
        },
        "id": "lTeJLfZQev2U",
        "outputId": "0865a7c0-aeb4-4d39-fd32-9105f055ec18"
      },
      "execution_count": 32,
      "outputs": [
        {
          "output_type": "stream",
          "name": "stdout",
          "text": [
            "Epoch 1/10\n",
            "1875/1875 [==============================] - 6s 3ms/step - loss: 1.7655 - accuracy: 0.7683 - val_loss: 0.5498 - val_accuracy: 0.8682\n",
            "Epoch 2/10\n",
            "1875/1875 [==============================] - 5s 3ms/step - loss: 0.4283 - accuracy: 0.8861 - val_loss: 0.3376 - val_accuracy: 0.9098\n",
            "Epoch 3/10\n",
            "1875/1875 [==============================] - 6s 3ms/step - loss: 0.2880 - accuracy: 0.9216 - val_loss: 0.2677 - val_accuracy: 0.9283\n",
            "Epoch 4/10\n",
            "1875/1875 [==============================] - 5s 3ms/step - loss: 0.2247 - accuracy: 0.9390 - val_loss: 0.2205 - val_accuracy: 0.9441\n",
            "Epoch 5/10\n",
            "1875/1875 [==============================] - 8s 4ms/step - loss: 0.1827 - accuracy: 0.9490 - val_loss: 0.2077 - val_accuracy: 0.9471\n",
            "Epoch 6/10\n",
            "1875/1875 [==============================] - 6s 3ms/step - loss: 0.1591 - accuracy: 0.9562 - val_loss: 0.2076 - val_accuracy: 0.9474\n",
            "Epoch 7/10\n",
            "1875/1875 [==============================] - 6s 3ms/step - loss: 0.1475 - accuracy: 0.9604 - val_loss: 0.1578 - val_accuracy: 0.9592\n",
            "Epoch 8/10\n",
            "1875/1875 [==============================] - 7s 4ms/step - loss: 0.1331 - accuracy: 0.9628 - val_loss: 0.1761 - val_accuracy: 0.9556\n",
            "Epoch 9/10\n",
            "1875/1875 [==============================] - 6s 3ms/step - loss: 0.1213 - accuracy: 0.9664 - val_loss: 0.2009 - val_accuracy: 0.9501\n",
            "Epoch 10/10\n",
            "1875/1875 [==============================] - 5s 3ms/step - loss: 0.1130 - accuracy: 0.9687 - val_loss: 0.1433 - val_accuracy: 0.9631\n"
          ]
        }
      ]
    },
    {
      "cell_type": "code",
      "source": [
        "##두 모델 비교 시각화\n",
        "plt.figure(figsize = (5,3))\n",
        "plt.plot(np.arange(1,11),history.history['val_loss'], color = 'navy', label = 'None')\n",
        "plt.plot(np.arange(1,11),history_w_he.history['val_loss'], color = 'tomato', label = 'He Initialization')\n",
        "plt.title(\"Losses\", fontsize = 20)\n",
        "plt.xlabel('epochs')\n",
        "plt.ylabel(\"Losses\")\n",
        "plt.legend()\n",
        "plt.show()"
      ],
      "metadata": {
        "colab": {
          "base_uri": "https://localhost:8080/",
          "height": 341
        },
        "id": "54__Th-rfH_y",
        "outputId": "1f478c63-4b95-48e2-8873-b84b2dc83bca"
      },
      "execution_count": 36,
      "outputs": [
        {
          "output_type": "display_data",
          "data": {
            "text/plain": [
              "<Figure size 500x300 with 1 Axes>"
            ],
            "image/png": "[encoded data removed]"
          },
          "metadata": {}
        }
      ]
    },
    {
      "cell_type": "code",
      "source": [
        "####kernel_initializer = 'glorot_normal' 을 적용한 경우\n",
        "model_w_gl = tf.keras.Sequential([tf.keras.layers.Flatten(input_shape = (28,28)),\n",
        "                                  tf.keras.layers.Dense(64, kernel_initializer = 'glorot_normal', activation = 'sigmoid'),\n",
        "                                  tf.keras.layers.Dense(32, activation = 'sigmoid'),\n",
        "                                  tf.keras.layers.Dense(10, activation = 'softmax')])\n",
        "model_w_gl.summary()  "
      ],
      "metadata": {
        "colab": {
          "base_uri": "https://localhost:8080/"
        },
        "id": "O1GnQJhtfI9h",
        "outputId": "1cb2bad0-1d8e-4840-c10f-100377b04354"
      },
      "execution_count": 34,
      "outputs": [
        {
          "output_type": "stream",
          "name": "stdout",
          "text": [
            "Model: \"sequential_10\"\n",
            "_________________________________________________________________\n",
            " Layer (type)                Output Shape              Param #   \n",
            "=================================================================\n",
            " flatten_10 (Flatten)        (None, 784)               0         \n",
            "                                                                 \n",
            " dense_36 (Dense)            (None, 64)                50240     \n",
            "                                                                 \n",
            " dense_37 (Dense)            (None, 32)                2080      \n",
            "                                                                 \n",
            " dense_38 (Dense)            (None, 10)                330       \n",
            "                                                                 \n",
            "=================================================================\n",
            "Total params: 52,650\n",
            "Trainable params: 52,650\n",
            "Non-trainable params: 0\n",
            "_________________________________________________________________\n"
          ]
        }
      ]
    },
    {
      "cell_type": "code",
      "source": [
        "model_w_gl.compile(optimizer = 'adam', loss = 'sparse_categorical_crossentropy', metrics = ['accuracy'])\n",
        "history_w_gl = model_w_gl.fit(x_train, y_train, validation_data = (x_test, y_test), epochs = 10)"
      ],
      "metadata": {
        "colab": {
          "base_uri": "https://localhost:8080/"
        },
        "id": "iMy7YDb2fI71",
        "outputId": "1a9c3e72-bd36-4282-fd05-011e4a3b9876"
      },
      "execution_count": 35,
      "outputs": [
        {
          "output_type": "stream",
          "name": "stdout",
          "text": [
            "Epoch 1/10\n",
            "1875/1875 [==============================] - 6s 3ms/step - loss: 0.7751 - accuracy: 0.8081 - val_loss: 0.4202 - val_accuracy: 0.8838\n",
            "Epoch 2/10\n",
            "1875/1875 [==============================] - 9s 5ms/step - loss: 0.3954 - accuracy: 0.8833 - val_loss: 0.3515 - val_accuracy: 0.8958\n",
            "Epoch 3/10\n",
            "1875/1875 [==============================] - 5s 3ms/step - loss: 0.3538 - accuracy: 0.8932 - val_loss: 0.3462 - val_accuracy: 0.8968\n",
            "Epoch 4/10\n",
            "1875/1875 [==============================] - 6s 3ms/step - loss: 0.3367 - accuracy: 0.8983 - val_loss: 0.3249 - val_accuracy: 0.9011\n",
            "Epoch 5/10\n",
            "1875/1875 [==============================] - 5s 3ms/step - loss: 0.3195 - accuracy: 0.9027 - val_loss: 0.3147 - val_accuracy: 0.9053\n",
            "Epoch 6/10\n",
            "1875/1875 [==============================] - 6s 3ms/step - loss: 0.3096 - accuracy: 0.9038 - val_loss: 0.2682 - val_accuracy: 0.9212\n",
            "Epoch 7/10\n",
            "1875/1875 [==============================] - 6s 3ms/step - loss: 0.2920 - accuracy: 0.9115 - val_loss: 0.2767 - val_accuracy: 0.9184\n",
            "Epoch 8/10\n",
            "1875/1875 [==============================] - 6s 3ms/step - loss: 0.2728 - accuracy: 0.9159 - val_loss: 0.2676 - val_accuracy: 0.9166\n",
            "Epoch 9/10\n",
            "1875/1875 [==============================] - 5s 3ms/step - loss: 0.2709 - accuracy: 0.9164 - val_loss: 0.2604 - val_accuracy: 0.9189\n",
            "Epoch 10/10\n",
            "1875/1875 [==============================] - 5s 3ms/step - loss: 0.2615 - accuracy: 0.9193 - val_loss: 0.2500 - val_accuracy: 0.9224\n"
          ]
        }
      ]
    },
    {
      "cell_type": "code",
      "source": [
        "##세 모델 시각화\n",
        "plt.figure(figsize = (5,3))\n",
        "plt.plot(np.arange(1,11),history.history['val_loss'], color = 'navy', label = 'None')\n",
        "plt.plot(np.arange(1,11),history_w_he.history['val_loss'], color = 'tomato', label = 'He Initialization')\n",
        "plt.plot(np.arange(1,11),history_w_gl.history['val_loss'], color = 'green', label = 'Xavier Initialization')\n",
        "plt.title(\"Losses\", fontsize = 20)\n",
        "plt.xlabel('epochs')\n",
        "plt.ylabel(\"Losses\")\n",
        "plt.legend()\n",
        "plt.show()"
      ],
      "metadata": {
        "colab": {
          "base_uri": "https://localhost:8080/",
          "height": 341
        },
        "id": "ntxdQ5RkfI5v",
        "outputId": "27d1823f-a7e7-4589-e3f7-e4b31dac7d7f"
      },
      "execution_count": 37,
      "outputs": [
        {
          "output_type": "display_data",
          "data": {
            "text/plain": [
              "<Figure size 500x300 with 1 Axes>"
            ],
            "image/png": "[encoded data removed]"
          },
          "metadata": {}
        }
      ]
    },
    {
      "cell_type": "markdown",
      "source": [
        "##4-2 규제(Regularization)\n",
        "\n",
        "1. L1 : 가중치의 절대값에 비례하여 (0.001을 곱하여) 비용 추가\n",
        "2. L2 : 가중치의 제곱에 비례하여 (0.001을 곱하여) 비용 추가"
      ],
      "metadata": {
        "id": "ScWevZjHfv-x"
      }
    },
    {
      "cell_type": "code",
      "source": [
        "regularizer2 = tf.keras.regularizers.l2(0.001)\n",
        "L2_model = tf.keras.Sequential([\n",
        "    tf.keras.layers.Flatten(input_shape = (28,28)),\n",
        "    tf.keras.layers.Dense(64, kernel_initializer ='normal', kernel_regularizer = regularizer2, activation = 'relu'),\n",
        "    tf.keras.layers.Dense(32, kernel_initializer ='normal', kernel_regularizer = regularizer2, activation = 'relu'),\n",
        "    tf.keras.layers.Dense(10, activation = 'softmax'),\n",
        "])"
      ],
      "metadata": {
        "id": "FOKlOQZJfI3r"
      },
      "execution_count": 25,
      "outputs": []
    },
    {
      "cell_type": "code",
      "source": [
        "L2_model.compile(optimizer='adam', loss = 'sparse_categorical_crossentropy', metrics=['accuracy'])\n",
        "L2_model = L2_model.fit(x_train, y_train, validation_data = (x_test, y_test), epochs = 10)"
      ],
      "metadata": {
        "colab": {
          "base_uri": "https://localhost:8080/"
        },
        "id": "TJAjRnaagXF2",
        "outputId": "0802aef9-64ad-4a5d-dbc0-d618318d6e81"
      },
      "execution_count": 22,
      "outputs": [
        {
          "output_type": "stream",
          "name": "stdout",
          "text": [
            "Epoch 1/10\n",
            "1875/1875 [==============================] - 6s 3ms/step - loss: 0.7153 - accuracy: 0.8579 - val_loss: 0.3322 - val_accuracy: 0.9292\n",
            "Epoch 2/10\n",
            "1875/1875 [==============================] - 7s 4ms/step - loss: 0.2923 - accuracy: 0.9384 - val_loss: 0.2696 - val_accuracy: 0.9454\n",
            "Epoch 3/10\n",
            "1875/1875 [==============================] - 8s 4ms/step - loss: 0.2400 - accuracy: 0.9503 - val_loss: 0.2151 - val_accuracy: 0.9568\n",
            "Epoch 4/10\n",
            "1875/1875 [==============================] - 7s 4ms/step - loss: 0.2148 - accuracy: 0.9569 - val_loss: 0.2154 - val_accuracy: 0.9571\n",
            "Epoch 5/10\n",
            "1875/1875 [==============================] - 8s 4ms/step - loss: 0.1955 - accuracy: 0.9609 - val_loss: 0.2198 - val_accuracy: 0.9551\n",
            "Epoch 6/10\n",
            "1875/1875 [==============================] - 6s 3ms/step - loss: 0.1941 - accuracy: 0.9618 - val_loss: 0.1981 - val_accuracy: 0.9612\n",
            "Epoch 7/10\n",
            "1875/1875 [==============================] - 8s 4ms/step - loss: 0.1840 - accuracy: 0.9656 - val_loss: 0.2122 - val_accuracy: 0.9570\n",
            "Epoch 8/10\n",
            "1875/1875 [==============================] - 11s 6ms/step - loss: 0.1808 - accuracy: 0.9659 - val_loss: 0.2103 - val_accuracy: 0.9592\n",
            "Epoch 9/10\n",
            "1875/1875 [==============================] - 9s 5ms/step - loss: 0.1815 - accuracy: 0.9663 - val_loss: 0.1981 - val_accuracy: 0.9622\n",
            "Epoch 10/10\n",
            "1875/1875 [==============================] - 11s 6ms/step - loss: 0.1752 - accuracy: 0.9667 - val_loss: 0.1975 - val_accuracy: 0.9620\n"
          ]
        }
      ]
    },
    {
      "cell_type": "code",
      "source": [
        "##he_nomal initialization + L1(0.01) + Relu\n",
        "model_drop_reg = tf.keras.Sequential([tf.keras.layers.Flatten(input_shape = (28,28)),\n",
        "                                      tf.keras.layer.Dense(64. kernel_initializer = 'he_normal', kernel_regularizer = 'l1', activation = 'relu')\n",
        "                                      tf.keras.layer.Dropout(0.5)\n",
        "                                      tf.keras.layer.Dense(32, kernel_initializer = 'he_normal', kernel_regularizer = 'l1', activation = 'relu')\n",
        "                                      tf.keras.layer.Dropout(0.5)\n",
        "                                      tf.keras.layer.Dense(10, activation = 'softmax')\n",
        "                                      \n",
        "\n",
        "])"
      ],
      "metadata": {
        "id": "l9NtyEckgxEC"
      },
      "execution_count": null,
      "outputs": []
    }
  ]
}